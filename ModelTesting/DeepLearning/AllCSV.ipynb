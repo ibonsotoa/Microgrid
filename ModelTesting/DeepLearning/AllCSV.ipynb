{
 "cells": [
  {
   "metadata": {
    "ExecuteTime": {
     "end_time": "2025-03-24T14:18:08.759272Z",
     "start_time": "2025-03-24T14:18:08.749024Z"
    }
   },
   "cell_type": "code",
   "source": [
    "import os\n",
    "import pandas as pd\n",
    "import numpy as np\n",
    "import torch\n",
    "import torch.nn as nn\n",
    "import torch.optim as optim\n",
    "from torch.utils.data import TensorDataset, DataLoader\n",
    "from sklearn.preprocessing import StandardScaler, OneHotEncoder\n",
    "from sklearn.model_selection import train_test_split\n",
    "from sklearn.metrics import mean_squared_error, mean_absolute_error, r2_score\n",
    "import matplotlib.pyplot as plt"
   ],
   "id": "2a0c0388462202cc",
   "outputs": [],
   "execution_count": 12
  },
  {
   "metadata": {
    "ExecuteTime": {
     "end_time": "2025-03-24T14:36:46.348525Z",
     "start_time": "2025-03-24T14:36:44.667840Z"
    }
   },
   "cell_type": "code",
   "source": [
    "# Configuración general\n",
    "folder_path = r\"C:\\Users\\Ibon\\PycharmProjects\\Microgrid\\TrainTestSplit\"\n",
    "csv_files = [f for f in os.listdir(folder_path) if f.endswith('.csv')]\n",
    "\n",
    "# Función para extraer la ubicación del nombre del archivo\n",
    "def extract_location(filename):\n",
    "    return filename.split('_')[0]  # Ajustar según la estructura real de los nombres\n",
    "\n",
    "def extract_csv_id(filename):\n",
    "    return filename.split('_')[1]  # O la parte que identifique el CSV\n",
    "\n",
    "# Cargar y procesar datos\n",
    "df_list = []\n",
    "for file in csv_files:\n",
    "    file_path = os.path.join(folder_path, file)\n",
    "    df = pd.read_csv(file_path, parse_dates=[\"Time Stamp (local standard time) yyyy-mm-ddThh:mm:ss\"])\n",
    "    \n",
    "    # Extraer ubicación y añadir columna\n",
    "    df['location'] = extract_location(file)\n",
    "    df['csv_id'] = df['location'] + \"_\" + extract_csv_id(file)\n",
    "\n",
    "    \n",
    "    # Muestreo estratificado (aumentar el % si es necesario)\n",
    "    sample_df = df.sample(frac=0.2, random_state=42)  # Aumentado a 20%\n",
    "    df_list.append(sample_df)\n",
    "    \n",
    "\n",
    "df_merged = pd.concat(df_list, ignore_index=True)\n",
    "df_merged = df_merged.drop(columns='Time Stamp (local standard time) yyyy-mm-ddThh:mm:ss')"
   ],
   "id": "790f6b308ae608d9",
   "outputs": [],
   "execution_count": 24
  },
  {
   "metadata": {
    "ExecuteTime": {
     "end_time": "2025-03-24T14:36:48.030353Z",
     "start_time": "2025-03-24T14:36:47.879117Z"
    }
   },
   "cell_type": "code",
   "source": [
    "# Procesamiento separado para características numéricas y categóricas\n",
    "numerical_cols = df_merged.columns.drop(['Pmp (W)', 'location']).tolist()\n",
    "categorical_col = ['location']\n",
    "\n",
    "# Preprocesamiento\n",
    "X_num = df_merged[numerical_cols].values.astype(np.float32)\n",
    "X_cat = df_merged[categorical_col].values\n",
    "\n",
    "# Codificar categorías\n",
    "ohe = OneHotEncoder(sparse_output=False)\n",
    "X_cat_encoded = ohe.fit_transform(X_cat).astype(np.float32)\n",
    "\n",
    "# Escalar características numéricas\n",
    "scaler_num = StandardScaler()\n",
    "X_num_scaled = scaler_num.fit_transform(X_num)\n",
    "\n",
    "# Combinar características\n",
    "X = np.hstack([X_num_scaled, X_cat_encoded])\n",
    "y = df_merged['Pmp (W)'].values.astype(np.float32)\n",
    "\n",
    "# Split estratificado por ubicación\n",
    "X_train, X_test, y_train, y_test = train_test_split(\n",
    "    X, y, \n",
    "    test_size=0.2, \n",
    "    random_state=42,\n",
    "    stratify=df_merged['csv_id']  # Estratifica por la combinación ubicación y CSV\n",
    ")\n",
    "\n",
    "# Convertir a tensores\n",
    "X_train_tensor = torch.tensor(X_train)\n",
    "y_train_tensor = torch.tensor(y_train).unsqueeze(1)\n",
    "X_test_tensor = torch.tensor(X_test)\n",
    "y_test_tensor = torch.tensor(y_test).unsqueeze(1)"
   ],
   "id": "55ec6b6642d8c70f",
   "outputs": [
    {
     "ename": "ValueError",
     "evalue": "could not convert string to float: 'Cocoa_aSiMicro03036.csv'",
     "output_type": "error",
     "traceback": [
      "\u001B[1;31m---------------------------------------------------------------------------\u001B[0m",
      "\u001B[1;31mValueError\u001B[0m                                Traceback (most recent call last)",
      "Cell \u001B[1;32mIn[25], line 6\u001B[0m\n\u001B[0;32m      3\u001B[0m categorical_col \u001B[38;5;241m=\u001B[39m [\u001B[38;5;124m'\u001B[39m\u001B[38;5;124mlocation\u001B[39m\u001B[38;5;124m'\u001B[39m]\n\u001B[0;32m      5\u001B[0m \u001B[38;5;66;03m# Preprocesamiento\u001B[39;00m\n\u001B[1;32m----> 6\u001B[0m X_num \u001B[38;5;241m=\u001B[39m df_merged[numerical_cols]\u001B[38;5;241m.\u001B[39mvalues\u001B[38;5;241m.\u001B[39mastype(np\u001B[38;5;241m.\u001B[39mfloat32)\n\u001B[0;32m      7\u001B[0m X_cat \u001B[38;5;241m=\u001B[39m df_merged[categorical_col]\u001B[38;5;241m.\u001B[39mvalues\n\u001B[0;32m      9\u001B[0m \u001B[38;5;66;03m# Codificar categorías\u001B[39;00m\n",
      "\u001B[1;31mValueError\u001B[0m: could not convert string to float: 'Cocoa_aSiMicro03036.csv'"
     ]
    }
   ],
   "execution_count": 25
  },
  {
   "metadata": {
    "ExecuteTime": {
     "end_time": "2025-03-24T14:18:11.070090Z",
     "start_time": "2025-03-24T14:18:11.043826Z"
    }
   },
   "cell_type": "code",
   "source": [
    "# Modelo mejorado con características categóricas\n",
    "class EnhancedDNN(nn.Module):\n",
    "    def __init__(self, input_dim, num_locations):\n",
    "        super(EnhancedDNN, self).__init__()\n",
    "        \n",
    "        # Capa de embeddings para ubicación (alternativa a one-hot)\n",
    "        self.location_embedding = nn.Embedding(num_locations, 8)\n",
    "        \n",
    "        self.model = nn.Sequential(\n",
    "            nn.Linear(input_dim - num_locations + 8, 512),  # Ajustar dimensión\n",
    "            nn.BatchNorm1d(512),\n",
    "            nn.ReLU(),\n",
    "            nn.Dropout(0.5),\n",
    "            \n",
    "            nn.Linear(512, 256),\n",
    "            nn.BatchNorm1d(256),\n",
    "            nn.ReLU(),\n",
    "            nn.Dropout(0.4),\n",
    "            \n",
    "            nn.Linear(256, 128),\n",
    "            nn.BatchNorm1d(128),\n",
    "            nn.ReLU(),\n",
    "            nn.Dropout(0.3),\n",
    "            \n",
    "            nn.Linear(128, 64),\n",
    "            nn.ReLU(),\n",
    "            \n",
    "            nn.Linear(64, 1)\n",
    "        )\n",
    "        \n",
    "        self.num_locations = num_locations\n",
    "\n",
    "    def forward(self, x):\n",
    "        # Separar características numéricas y categóricas\n",
    "        num_features = x[:, :-self.num_locations]\n",
    "        cat_features = torch.argmax(x[:, -self.num_locations:], dim=1)\n",
    "        \n",
    "        # Embedding de ubicaciones\n",
    "        embedded = self.location_embedding(cat_features)\n",
    "        \n",
    "        # Combinar características\n",
    "        combined = torch.cat([num_features, embedded], dim=1)\n",
    "        return self.model(combined)\n",
    "\n",
    "# Configuración del modelo\n",
    "num_locations = X_cat_encoded.shape[1]\n",
    "input_dim = X.shape[1]\n",
    "model = EnhancedDNN(input_dim, num_locations)\n",
    "device = torch.device(\"cuda\" if torch.cuda.is_available() else \"cpu\")\n",
    "model.to(device)"
   ],
   "id": "8527c7c449cc60b3",
   "outputs": [
    {
     "data": {
      "text/plain": [
       "EnhancedDNN(\n",
       "  (location_embedding): Embedding(3, 8)\n",
       "  (model): Sequential(\n",
       "    (0): Linear(in_features=17, out_features=512, bias=True)\n",
       "    (1): BatchNorm1d(512, eps=1e-05, momentum=0.1, affine=True, track_running_stats=True)\n",
       "    (2): ReLU()\n",
       "    (3): Dropout(p=0.5, inplace=False)\n",
       "    (4): Linear(in_features=512, out_features=256, bias=True)\n",
       "    (5): BatchNorm1d(256, eps=1e-05, momentum=0.1, affine=True, track_running_stats=True)\n",
       "    (6): ReLU()\n",
       "    (7): Dropout(p=0.4, inplace=False)\n",
       "    (8): Linear(in_features=256, out_features=128, bias=True)\n",
       "    (9): BatchNorm1d(128, eps=1e-05, momentum=0.1, affine=True, track_running_stats=True)\n",
       "    (10): ReLU()\n",
       "    (11): Dropout(p=0.3, inplace=False)\n",
       "    (12): Linear(in_features=128, out_features=64, bias=True)\n",
       "    (13): ReLU()\n",
       "    (14): Linear(in_features=64, out_features=1, bias=True)\n",
       "  )\n",
       ")"
      ]
     },
     "execution_count": 15,
     "metadata": {},
     "output_type": "execute_result"
    }
   ],
   "execution_count": 15
  },
  {
   "metadata": {
    "ExecuteTime": {
     "end_time": "2025-03-24T14:23:02.549607Z",
     "start_time": "2025-03-24T14:18:11.139365Z"
    }
   },
   "cell_type": "code",
   "source": [
    "# Optimización y entrenamiento mejorados\n",
    "batch_size = 512\n",
    "train_dataset = TensorDataset(X_train_tensor, y_train_tensor)\n",
    "train_loader = DataLoader(train_dataset, batch_size=batch_size, shuffle=True)\n",
    "\n",
    "optimizer = optim.AdamW(model.parameters(), lr=0.001, weight_decay=1e-4)\n",
    "scheduler = optim.lr_scheduler.ReduceLROnPlateau(optimizer, patience=5, factor=0.3)\n",
    "criterion = nn.HuberLoss()  # Más robusto que MSE\n",
    "# Entrenamiento con early stopping\n",
    "epochs = 200\n",
    "best_loss = np.inf\n",
    "patience = 15\n",
    "counter = 0\n",
    "train_losses = []\n",
    "\n",
    "for epoch in range(epochs):\n",
    "    model.train()\n",
    "    running_loss = 0.0\n",
    "    \n",
    "    for xb, yb in train_loader:\n",
    "        xb, yb = xb.to(device), yb.to(device)\n",
    "        optimizer.zero_grad()\n",
    "        outputs = model(xb)\n",
    "        loss = criterion(outputs, yb)\n",
    "        loss.backward()\n",
    "        torch.nn.utils.clip_grad_norm_(model.parameters(), 1.0)  # Gradient clipping\n",
    "        optimizer.step()\n",
    "        running_loss += loss.item() * xb.size(0)\n",
    "    \n",
    "    avg_loss = running_loss / len(train_loader.dataset)\n",
    "    train_losses.append(avg_loss)\n",
    "    scheduler.step(avg_loss)\n",
    "    \n",
    "    print(f\"Epoch [{epoch+1}/{epochs}], Loss: {avg_loss:.4f}\")\n",
    "    \n",
    "    # Early stopping mejorado\n",
    "    if avg_loss < best_loss:\n",
    "        best_loss = avg_loss\n",
    "        counter = 0\n",
    "        torch.save(model.state_dict(), \"best_model_multicsv.pth\")\n",
    "    else:\n",
    "        counter += 1\n",
    "        if counter >= patience:\n",
    "            print(f\"⏹️ Early stopping at epoch {epoch+1}\")\n",
    "            break\n"
   ],
   "id": "2e7155224ace4a6",
   "outputs": [
    {
     "name": "stdout",
     "output_type": "stream",
     "text": [
      "Epoch [1/200], Loss: 16.8828\n",
      "Epoch [2/200], Loss: 13.2606\n",
      "Epoch [3/200], Loss: 13.1715\n",
      "Epoch [4/200], Loss: 13.1259\n",
      "Epoch [5/200], Loss: 13.1060\n",
      "Epoch [6/200], Loss: 13.0989\n",
      "Epoch [7/200], Loss: 13.0759\n",
      "Epoch [8/200], Loss: 13.0770\n",
      "Epoch [9/200], Loss: 13.0655\n",
      "Epoch [10/200], Loss: 13.0471\n",
      "Epoch [11/200], Loss: 13.0532\n",
      "Epoch [12/200], Loss: 13.0387\n",
      "Epoch [13/200], Loss: 13.0191\n",
      "Epoch [14/200], Loss: 13.0132\n",
      "Epoch [15/200], Loss: 12.9956\n",
      "Epoch [16/200], Loss: 13.0132\n",
      "Epoch [17/200], Loss: 13.0116\n",
      "Epoch [18/200], Loss: 12.9938\n",
      "Epoch [19/200], Loss: 13.0122\n",
      "Epoch [20/200], Loss: 12.9903\n",
      "Epoch [21/200], Loss: 13.0011\n",
      "Epoch [22/200], Loss: 12.9812\n",
      "Epoch [23/200], Loss: 12.9853\n",
      "Epoch [24/200], Loss: 12.9650\n",
      "Epoch [25/200], Loss: 12.9815\n",
      "Epoch [26/200], Loss: 12.9759\n",
      "Epoch [27/200], Loss: 12.9616\n",
      "Epoch [28/200], Loss: 12.9592\n",
      "Epoch [29/200], Loss: 12.9617\n",
      "Epoch [30/200], Loss: 12.9572\n",
      "Epoch [31/200], Loss: 12.9610\n",
      "Epoch [32/200], Loss: 12.9671\n",
      "Epoch [33/200], Loss: 12.9663\n",
      "Epoch [34/200], Loss: 12.9449\n",
      "Epoch [35/200], Loss: 12.9355\n",
      "Epoch [36/200], Loss: 12.9290\n",
      "Epoch [37/200], Loss: 12.9310\n",
      "Epoch [38/200], Loss: 12.9390\n",
      "Epoch [39/200], Loss: 12.9393\n",
      "Epoch [40/200], Loss: 12.9342\n",
      "Epoch [41/200], Loss: 12.9382\n",
      "Epoch [42/200], Loss: 12.9284\n",
      "Epoch [43/200], Loss: 12.9037\n",
      "Epoch [44/200], Loss: 12.9033\n",
      "Epoch [45/200], Loss: 12.8919\n",
      "Epoch [46/200], Loss: 12.8882\n",
      "Epoch [47/200], Loss: 12.8991\n",
      "Epoch [48/200], Loss: 12.8968\n",
      "Epoch [49/200], Loss: 12.8983\n",
      "Epoch [50/200], Loss: 12.8918\n",
      "Epoch [51/200], Loss: 12.8827\n",
      "Epoch [52/200], Loss: 12.8855\n",
      "Epoch [53/200], Loss: 12.8933\n",
      "Epoch [54/200], Loss: 12.8898\n",
      "Epoch [55/200], Loss: 12.8902\n",
      "Epoch [56/200], Loss: 12.8845\n",
      "Epoch [57/200], Loss: 12.8868\n",
      "Epoch [58/200], Loss: 12.8723\n",
      "Epoch [59/200], Loss: 12.8722\n",
      "Epoch [60/200], Loss: 12.8822\n",
      "Epoch [61/200], Loss: 12.8697\n",
      "Epoch [62/200], Loss: 12.8642\n",
      "Epoch [63/200], Loss: 12.8531\n",
      "Epoch [64/200], Loss: 12.8786\n",
      "Epoch [65/200], Loss: 12.8638\n",
      "Epoch [66/200], Loss: 12.8695\n",
      "Epoch [67/200], Loss: 12.8712\n",
      "Epoch [68/200], Loss: 12.8662\n",
      "Epoch [69/200], Loss: 12.8700\n",
      "Epoch [70/200], Loss: 12.8687\n",
      "Epoch [71/200], Loss: 12.8695\n",
      "Epoch [72/200], Loss: 12.8614\n",
      "Epoch [73/200], Loss: 12.8637\n",
      "Epoch [74/200], Loss: 12.8678\n",
      "Epoch [75/200], Loss: 12.8708\n",
      "Epoch [76/200], Loss: 12.8748\n",
      "Epoch [77/200], Loss: 12.8665\n",
      "Epoch [78/200], Loss: 12.8543\n",
      "⏹️ Early stopping at epoch 78\n"
     ]
    }
   ],
   "execution_count": 16
  },
  {
   "cell_type": "code",
   "id": "initial_id",
   "metadata": {
    "collapsed": true,
    "ExecuteTime": {
     "end_time": "2025-03-24T14:24:19.248036Z",
     "start_time": "2025-03-24T14:24:18.545950Z"
    }
   },
   "source": [
    "# Evaluación\n",
    "model.load_state_dict(torch.load(\"best_model_multicsv.pth\"))\n",
    "model.eval()\n",
    "\n",
    "with torch.no_grad():\n",
    "    y_pred = model(X_test_tensor.to(device)).cpu().numpy()\n",
    "    y_test_np = y_test_tensor.cpu().numpy()\n",
    "\n",
    "# Métricas mejoradas\n",
    "mse = mean_squared_error(y_test_np, y_pred)\n",
    "mae = mean_absolute_error(y_test_np, y_pred)\n",
    "r2 = r2_score(y_test_np, y_pred)\n",
    "\n",
    "print(f\"\\n📊 Test MSE: {mse:.4f}\")\n",
    "print(f\"📏 Test MAE: {mae:.4f}\")\n",
    "print(f\"📈 Test R2: {r2:.4f}\")\n",
    "\n",
    "# Gráficas adicionales de análisis\n",
    "residuals = y_test_np - y_pred\n",
    "\n",
    "plt.figure(figsize=(12, 4))\n",
    "plt.subplot(131)\n",
    "plt.plot(train_losses)\n",
    "plt.title('Training Loss')\n",
    "\n",
    "plt.subplot(132)\n",
    "plt.scatter(y_test_np, y_pred, alpha=0.3)\n",
    "plt.plot([y_test_np.min(), y_test_np.max()], [y_test_np.min(), y_test_np.max()], 'r--')\n",
    "plt.title('True vs Predicted')\n",
    "\n",
    "plt.subplot(133)\n",
    "plt.hist(residuals, bins=30, alpha=0.7)\n",
    "plt.title('Residuals Distribution')\n",
    "\n",
    "plt.tight_layout()\n",
    "plt.show()"
   ],
   "outputs": [
    {
     "name": "stderr",
     "output_type": "stream",
     "text": [
      "C:\\Users\\Ibon\\AppData\\Local\\Temp\\ipykernel_24328\\1474292418.py:2: FutureWarning: You are using `torch.load` with `weights_only=False` (the current default value), which uses the default pickle module implicitly. It is possible to construct malicious pickle data which will execute arbitrary code during unpickling (See https://github.com/pytorch/pytorch/blob/main/SECURITY.md#untrusted-models for more details). In a future release, the default value for `weights_only` will be flipped to `True`. This limits the functions that could be executed during unpickling. Arbitrary objects will no longer be allowed to be loaded via this mode unless they are explicitly allowlisted by the user via `torch.serialization.add_safe_globals`. We recommend you start setting `weights_only=True` for any use case where you don't have full control of the loaded file. Please open an issue on GitHub for any issues related to this experimental feature.\n",
      "  model.load_state_dict(torch.load(\"best_model_multicsv.pth\"))\n"
     ]
    },
    {
     "name": "stdout",
     "output_type": "stream",
     "text": [
      "\n",
      "📊 Test MSE: 712.0853\n",
      "📏 Test MAE: 13.2624\n",
      "📈 Test R2: 0.5110\n"
     ]
    },
    {
     "data": {
      "text/plain": [
       "<Figure size 1200x400 with 3 Axes>"
      ],
      "image/png": "[encoded data removed]"
     },
     "metadata": {},
     "output_type": "display_data"
    }
   ],
   "execution_count": 18
  }
 ],
 "metadata": {
  "kernelspec": {
   "display_name": "Python 3",
   "language": "python",
   "name": "python3"
  },
  "language_info": {
   "codemirror_mode": {
    "name": "ipython",
    "version": 2
   },
   "file_extension": ".py",
   "mimetype": "text/x-python",
   "name": "python",
   "nbconvert_exporter": "python",
   "pygments_lexer": "ipython2",
   "version": "2.7.6"
  }
 },
 "nbformat": 4,
 "nbformat_minor": 5
}
