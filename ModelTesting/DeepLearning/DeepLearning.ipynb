{
 "cells": [
  {
   "cell_type": "code",
   "execution_count": 32,
   "id": "initial_id",
   "metadata": {
    "collapsed": true
   },
   "outputs": [],
   "source": [
    "import pandas as pd\n",
    "import os\n",
    "import matplotlib.pyplot as plt\n",
    "import seaborn as sns\n",
    "import torch\n",
    "import torch.nn as nn"
   ]
  },
  {
   "cell_type": "markdown",
   "id": "61ea1aee",
   "metadata": {},
   "source": [
    "# 1. Carga de datos\n",
    "Se puede cambiar la fracción de valores a cargar para realizar los entrenamientos con un mayor % de valores."
   ]
  },
  {
   "cell_type": "code",
   "execution_count": 33,
   "id": "50d6c40deeff1dbf",
   "metadata": {},
   "outputs": [],
   "source": [
    "folder_path = r\"/home/alkain/Escritorio/Github_Repositorios/Microgrid/objective2_data_cleaned\" \n",
    "\n",
    "csv_files = [f for f in os.listdir(folder_path) if f.endswith('.csv')]\n",
    "\n",
    "df_list = []\n",
    "for file in csv_files:\n",
    "    file_path = os.path.join(folder_path, file)\n",
    "    df = pd.read_csv(file_path, parse_dates=[\"Time Stamp (local standard time) yyyy-mm-ddThh:mm:ss\"])\n",
    "    \n",
    "    # Selecciona aleatoriamente el 5% de las filas\n",
    "    sample_df = df.sample(frac=0.05, random_state=42)  # Ajusta random_state para reproducibilidad\n",
    "    \n",
    "    df_list.append(sample_df)\n",
    "\n",
    "df_merged = pd.concat(df_list, ignore_index=True)\n",
    "df_merged = df_merged.drop(columns='Time Stamp (local standard time) yyyy-mm-ddThh:mm:ss')"
   ]
  },
  {
   "cell_type": "code",
   "execution_count": 34,
   "id": "760d55cd",
   "metadata": {},
   "outputs": [
    {
     "name": "stdout",
     "output_type": "stream",
     "text": [
      "1025560\n"
     ]
    }
   ],
   "source": [
    "print(df_merged.size)"
   ]
  },
  {
   "cell_type": "markdown",
   "id": "62d125fb",
   "metadata": {},
   "source": [
    "# 2. Preprocesamiento de datos\n",
    "\n",
    "## 2.1. División de datos"
   ]
  },
  {
   "cell_type": "code",
   "execution_count": 35,
   "id": "3619fad7",
   "metadata": {},
   "outputs": [
    {
     "name": "stdout",
     "output_type": "stream",
     "text": [
      "Tamaño del dataset completo: 102556\n",
      "\n",
      "Tamaño de particiones:\n",
      "X_train: (71789, 9) y_train: (71789,)\n",
      "X_valid: (20613, 9) y_valid: (20613,)\n",
      "X_test: (10154, 9) y_test: (10154,)\n",
      "\n",
      "Porcentajes de particiones:\n",
      "Train: 70.00%\n",
      "Valid: 20.10%\n",
      "Test: 9.90%\n"
     ]
    }
   ],
   "source": [
    "from sklearn.model_selection import train_test_split\n",
    "import torch\n",
    "\n",
    "# Cargar el dataset\n",
    "import pandas as pd\n",
    "df = df_merged\n",
    "\n",
    "# Separar variables independientes y dependiente\n",
    "X = df.drop(columns=['Pmp (W)'])\n",
    "y = df['Pmp (W)']\n",
    "\n",
    "# División en entrenamiento, validación y prueba (70/20/10)\n",
    "X_train, X_temp, y_train, y_temp = train_test_split(X, y, test_size=0.3, random_state=42)\n",
    "X_valid, X_test, y_valid, y_test = train_test_split(X_temp, y_temp, test_size=0.33, random_state=42)  # 20/10\n",
    "\n",
    "# Verificar tamaños de conjuntos de datos\n",
    "print(\"Tamaño del dataset completo:\", len(df))\n",
    "print(\"\\nTamaño de particiones:\")\n",
    "print(\"X_train:\", X_train.shape, \"y_train:\", y_train.shape)\n",
    "print(\"X_valid:\", X_valid.shape, \"y_valid:\", y_valid.shape)\n",
    "print(\"X_test:\", X_test.shape, \"y_test:\", y_test.shape)\n",
    "print(\"\\nPorcentajes de particiones:\")\n",
    "print(f\"Train: {len(X_train)/len(df)*100:.2f}%\")\n",
    "print(f\"Valid: {len(X_valid)/len(df)*100:.2f}%\")\n",
    "print(f\"Test: {len(X_test)/len(df)*100:.2f}%\")"
   ]
  },
  {
   "cell_type": "markdown",
   "id": "00d27da2",
   "metadata": {},
   "source": [
    "\n",
    "## 2.2. Creación de Datasets y Dataloaders"
   ]
  },
  {
   "cell_type": "code",
   "execution_count": 36,
   "id": "50c3c97a",
   "metadata": {},
   "outputs": [
    {
     "name": "stdout",
     "output_type": "stream",
     "text": [
      "\n",
      "Verificación de datasets de PyTorch:\n",
      "Tamaño train_dataset: 71789\n",
      "Tamaño valid_dataset: 20613\n",
      "Tamaño test_dataset: 10154\n",
      "Dimensiones de X en train_dataset: torch.Size([71789, 9])\n",
      "Dimensiones de y en train_dataset: torch.Size([71789, 1])\n",
      "\n",
      "Verificación de dataloaders:\n",
      "Número de batches en train_loader: 2244\n",
      "Número de batches en valid_loader: 645\n",
      "Número de batches en test_loader: 318\n",
      "\n",
      "Verificación de un batch de entrenamiento:\n",
      "Dimensiones de X_batch: torch.Size([32, 9])\n",
      "Dimensiones de y_batch: torch.Size([32, 1])\n",
      "Tipo de datos de X_batch: torch.float32\n",
      "Tipo de datos de y_batch: torch.float32\n"
     ]
    }
   ],
   "source": [
    "from torch.utils.data import Dataset, DataLoader\n",
    "\n",
    "class SolarDataset(Dataset):\n",
    "    def __init__(self, X, y):\n",
    "        self.X = torch.tensor(X.values, dtype=torch.float32)\n",
    "        self.y = torch.tensor(y.values, dtype=torch.float32).unsqueeze(1)\n",
    "\n",
    "    def __len__(self):\n",
    "        return len(self.X)\n",
    "\n",
    "    def __getitem__(self, idx):\n",
    "        return self.X[idx], self.y[idx]\n",
    "\n",
    "# Crear datasets\n",
    "train_dataset = SolarDataset(X_train, y_train)\n",
    "valid_dataset = SolarDataset(X_valid, y_valid)\n",
    "test_dataset = SolarDataset(X_test, y_test)\n",
    "\n",
    "# Verificar tamaños de los datasets de PyTorch\n",
    "print(\"\\nVerificación de datasets de PyTorch:\")\n",
    "print(\"Tamaño train_dataset:\", len(train_dataset))\n",
    "print(\"Tamaño valid_dataset:\", len(valid_dataset))\n",
    "print(\"Tamaño test_dataset:\", len(test_dataset))\n",
    "print(\"Dimensiones de X en train_dataset:\", train_dataset.X.shape)\n",
    "print(\"Dimensiones de y en train_dataset:\", train_dataset.y.shape)\n",
    "\n",
    "# Crear dataloaders\n",
    "train_loader = DataLoader(train_dataset, batch_size=32, shuffle=True)\n",
    "valid_loader = DataLoader(valid_dataset, batch_size=32, shuffle=False)\n",
    "test_loader = DataLoader(test_dataset, batch_size=32, shuffle=False)\n",
    "\n",
    "# Verificar tamaños de los dataloaders\n",
    "print(\"\\nVerificación de dataloaders:\")\n",
    "print(\"Número de batches en train_loader:\", len(train_loader))\n",
    "print(\"Número de batches en valid_loader:\", len(valid_loader))\n",
    "print(\"Número de batches en test_loader:\", len(test_loader))\n",
    "\n",
    "# Verificar un batch para asegurarse de que los datos están correctamente formateados\n",
    "X_batch, y_batch = next(iter(train_loader))\n",
    "print(\"\\nVerificación de un batch de entrenamiento:\")\n",
    "print(\"Dimensiones de X_batch:\", X_batch.shape)\n",
    "print(\"Dimensiones de y_batch:\", y_batch.shape)\n",
    "print(\"Tipo de datos de X_batch:\", X_batch.dtype)\n",
    "print(\"Tipo de datos de y_batch:\", y_batch.dtype)"
   ]
  },
  {
   "cell_type": "markdown",
   "id": "fe6df1fa",
   "metadata": {},
   "source": [
    "# 3. Definición de Modelos de Deep Learning\n",
    "\n",
    "## 3.1. Red neuronal Densa (MLP)"
   ]
  },
  {
   "cell_type": "code",
   "execution_count": 37,
   "id": "dd5991ed",
   "metadata": {},
   "outputs": [],
   "source": [
    "class MLP(nn.Module):\n",
    "    def __init__(self, input_size, hidden_sizes, output_size, activation_fn=nn.ReLU):\n",
    "        super(MLP, self).__init__()\n",
    "        layers = []\n",
    "        in_size = input_size\n",
    "        \n",
    "        for hidden_size in hidden_sizes:\n",
    "            layers.append(nn.Linear(in_size, hidden_size))\n",
    "            layers.append(activation_fn())  # Se puede cambiar a ReLU, LeakyReLU o tanh\n",
    "            in_size = hidden_size\n",
    "        \n",
    "        layers.append(nn.Linear(in_size, output_size))\n",
    "        self.model = nn.Sequential(*layers)\n",
    "\n",
    "    def forward(self, x):\n",
    "        return self.model(x)\n",
    "\n",
    "input_size = X_train.shape[1]\n",
    "output_size = 1\n",
    "hidden_sizes = [64, 32, 16]  # Modificar para probar distintas arquitecturas\n",
    "\n",
    "model1 = MLP(input_size, hidden_sizes, output_size, activation_fn=nn.ReLU)"
   ]
  },
  {
   "cell_type": "markdown",
   "id": "5e4e6c56",
   "metadata": {},
   "source": [
    "## 3.2. Redes recurrentes (RNN, LSTM, GRU)"
   ]
  },
  {
   "cell_type": "code",
   "execution_count": 38,
   "id": "c9d5eb77",
   "metadata": {},
   "outputs": [],
   "source": [
    "class RecurrentModel(nn.Module):\n",
    "    def __init__(self, input_size, hidden_size, output_size, num_layers=1, model_type='LSTM'):\n",
    "        super(RecurrentModel, self).__init__()\n",
    "        self.model_type = model_type\n",
    "        self.hidden_size = hidden_size\n",
    "        self.num_layers = num_layers\n",
    "\n",
    "        if model_type == 'LSTM':\n",
    "            self.rnn = nn.LSTM(input_size, hidden_size, num_layers, batch_first=True)\n",
    "        elif model_type == 'GRU':\n",
    "            self.rnn = nn.GRU(input_size, hidden_size, num_layers, batch_first=True)\n",
    "        else:\n",
    "            self.rnn = nn.RNN(input_size, hidden_size, num_layers, batch_first=True)\n",
    "\n",
    "        self.fc = nn.Linear(hidden_size, output_size)\n",
    "\n",
    "    def forward(self, x):\n",
    "        # x: (batch_size, seq_len, input_size)\n",
    "        h0 = torch.zeros(self.num_layers, x.size(0), self.hidden_size).to(x.device)\n",
    "        c0 = torch.zeros(self.num_layers, x.size(0), self.hidden_size).to(x.device) if self.model_type == 'LSTM' else None\n",
    "\n",
    "        if self.model_type == 'LSTM':\n",
    "            out, _ = self.rnn(x, (h0, c0))\n",
    "        else:\n",
    "            out, _ = self.rnn(x, h0)\n",
    "\n",
    "        out = self.fc(out[:, -1, :])  # Tomar la salida de la última capa\n",
    "        return out\n",
    "\n",
    "input_size = X_train.shape[1]  # Cambiado para datos tabulares\n",
    "hidden_size = 64\n",
    "output_size = 1\n",
    "num_layers = 2\n",
    "\n",
    "# Modelos disponibles: 'RNN', 'LSTM', 'GRU'\n",
    "model2 = RecurrentModel(input_size, hidden_size, output_size, num_layers, model_type='LSTM')"
   ]
  },
  {
   "cell_type": "markdown",
   "id": "4e55ea4d",
   "metadata": {},
   "source": [
    "## 3.3. Redes neuronales convolucionales (CNN)"
   ]
  },
  {
   "cell_type": "code",
   "execution_count": 39,
   "id": "7592ac55",
   "metadata": {},
   "outputs": [],
   "source": [
    "class CNNModel(nn.Module):\n",
    "    def __init__(self, input_channels, output_size):\n",
    "        super(CNNModel, self).__init__()\n",
    "        self.conv_layers = nn.Sequential(\n",
    "            nn.Conv1d(input_channels, 16, kernel_size=3, padding=1),\n",
    "            nn.ReLU(),\n",
    "            nn.MaxPool1d(kernel_size=2),\n",
    "\n",
    "            nn.Conv1d(16, 32, kernel_size=3, padding=1),\n",
    "            nn.ReLU(),\n",
    "            nn.MaxPool1d(kernel_size=2)\n",
    "        )\n",
    "        self.flatten = nn.Flatten()\n",
    "        self.fc = nn.Sequential(\n",
    "            nn.Linear(32 * (input_size // 4), 64),  # Ajustar según el tamaño final\n",
    "            nn.ReLU(),\n",
    "            nn.Linear(64, output_size)\n",
    "        )\n",
    "\n",
    "    def forward(self, x):\n",
    "        x = self.conv_layers(x)\n",
    "        x = self.flatten(x)\n",
    "        x = self.fc(x)\n",
    "        return x\n",
    "\n",
    "input_channels = 1  # Para datos tabulares, reorganizar a (batch_size, 1, input_size)\n",
    "output_size = 1\n",
    "input_size = X_train.shape[1]\n",
    "\n",
    "model3 = CNNModel(input_channels, output_size)"
   ]
  },
  {
   "cell_type": "code",
   "execution_count": null,
   "id": "fd715624",
   "metadata": {},
   "outputs": [],
   "source": [
    "# Funciones de pérdida\n",
    "criterion_mse = nn.MSELoss()\n",
    "criterion_smooth_l1 = nn.SmoothL1Loss()\n",
    "\n",
    "# Optimizadores\n",
    "optimizer_adam = torch.optim.Adam(model1.parameters(), lr=0.001)\n",
    "optimizer_sgd = torch.optim.SGD(model2.parameters(), lr=0.01, momentum=0.9)\n",
    "optimizer_rmsprop = torch.optim.RMSprop(model3.parameters(), lr=0.001)"
   ]
  },
  {
   "cell_type": "markdown",
   "id": "ef538a3f",
   "metadata": {},
   "source": [
    "# 4. Función de Pérdida y Optimizador\n",
    "\n",
    "## 4.1. Funciones de pérdida\n",
    "\n",
    "### 4.1.1. MSELoss"
   ]
  },
  {
   "cell_type": "code",
   "execution_count": 41,
   "id": "0e9c41f1",
   "metadata": {},
   "outputs": [],
   "source": [
    "criterion_mse = nn.MSELoss()"
   ]
  },
  {
   "cell_type": "markdown",
   "id": "da4dbb85",
   "metadata": {},
   "source": [
    "### 4.1.2. SmoothL1Loss"
   ]
  },
  {
   "cell_type": "code",
   "execution_count": 42,
   "id": "c5416598",
   "metadata": {},
   "outputs": [],
   "source": [
    "criterion_smooth_l1 = nn.SmoothL1Loss()"
   ]
  },
  {
   "cell_type": "markdown",
   "id": "424c3d6a",
   "metadata": {},
   "source": [
    "## 4.2. Optimizadores\n",
    "\n",
    "### 4.2.1. Adam"
   ]
  },
  {
   "cell_type": "code",
   "execution_count": 43,
   "id": "2d53fb52",
   "metadata": {},
   "outputs": [],
   "source": [
    "optimizer_adam = torch.optim.Adam(model1.parameters(), lr=0.001)\n",
    "optimizer_adam = torch.optim.Adam(model2.parameters(), lr=0.001)\n",
    "optimizer_adam = torch.optim.Adam(model3.parameters(), lr=0.001)"
   ]
  },
  {
   "cell_type": "markdown",
   "id": "0b8b6969",
   "metadata": {},
   "source": [
    "### 4.2.2. SGD"
   ]
  },
  {
   "cell_type": "code",
   "execution_count": 44,
   "id": "99113dc9",
   "metadata": {},
   "outputs": [],
   "source": [
    "optimizer_sgd = torch.optim.SGD(model1.parameters(), lr=0.01, momentum=0.9)\n",
    "optimizer_sgd = torch.optim.SGD(model2.parameters(), lr=0.01, momentum=0.9)\n",
    "optimizer_sgd = torch.optim.SGD(model3.parameters(), lr=0.01, momentum=0.9)"
   ]
  },
  {
   "cell_type": "markdown",
   "id": "58255795",
   "metadata": {},
   "source": [
    "### 4.2.3. RMSprop"
   ]
  },
  {
   "cell_type": "code",
   "execution_count": 45,
   "id": "a1debcba",
   "metadata": {},
   "outputs": [],
   "source": [
    "optimizer_rmsprop = torch.optim.RMSprop(model1.parameters(), lr=0.001)\n",
    "optimizer_rmsprop = torch.optim.RMSprop(model2.parameters(), lr=0.001)\n",
    "optimizer_rmsprop = torch.optim.RMSprop(model3.parameters(), lr=0.001)"
   ]
  },
  {
   "cell_type": "markdown",
   "id": "ffb92b1f",
   "metadata": {},
   "source": [
    "\n",
    "## 4.3 Ajuste de hiperparámetros"
   ]
  },
  {
   "cell_type": "code",
   "execution_count": 51,
   "id": "dd9c019b",
   "metadata": {},
   "outputs": [
    {
     "name": "stdout",
     "output_type": "stream",
     "text": [
      "Ajustando modelo MLP (model1) con MSE y Adam\n",
      "Epoch [1/20], Loss: 7388.0097\n",
      "Epoch [2/20], Loss: 7387.2551\n",
      "Epoch [3/20], Loss: 7387.6215\n",
      "Epoch [4/20], Loss: 7388.3173\n",
      "Epoch [5/20], Loss: 7388.9312\n",
      "Epoch [6/20], Loss: 7387.5117\n",
      "Epoch [7/20], Loss: 7387.4679\n",
      "Epoch [8/20], Loss: 7389.0268\n",
      "Epoch [9/20], Loss: 7387.9006\n",
      "Epoch [10/20], Loss: 7387.9845\n",
      "Epoch [11/20], Loss: 7388.9768\n",
      "Epoch [12/20], Loss: 7387.6352\n",
      "Epoch [13/20], Loss: 7387.5778\n",
      "Epoch [14/20], Loss: 7387.4921\n",
      "Epoch [15/20], Loss: 7387.8160\n",
      "Epoch [16/20], Loss: 7387.2549\n",
      "Epoch [17/20], Loss: 7387.5245\n",
      "Epoch [18/20], Loss: 7387.1531\n",
      "Epoch [19/20], Loss: 7388.0366\n",
      "Epoch [20/20], Loss: 7387.6469\n",
      "Ajustando modelo CNN (model3) con MSE y RMSprop\n"
     ]
    },
    {
     "ename": "RuntimeError",
     "evalue": "Given groups=1, weight of size [16, 1, 3], expected input[1, 32, 9] to have 1 channels, but got 32 channels instead",
     "output_type": "error",
     "traceback": [
      "\u001b[31m---------------------------------------------------------------------------\u001b[39m",
      "\u001b[31mRuntimeError\u001b[39m                              Traceback (most recent call last)",
      "\u001b[36mCell\u001b[39m\u001b[36m \u001b[39m\u001b[32mIn[51]\u001b[39m\u001b[32m, line 23\u001b[39m\n\u001b[32m     19\u001b[39m \u001b[38;5;66;03m#print(\"Ajustando modelo RNN (model2) con SmoothL1 y SGD\")\u001b[39;00m\n\u001b[32m     20\u001b[39m \u001b[38;5;66;03m#train_model(model2, criterion_smooth_l1, optimizer_sgd)\u001b[39;00m\n\u001b[32m     22\u001b[39m \u001b[38;5;28mprint\u001b[39m(\u001b[33m\"\u001b[39m\u001b[33mAjustando modelo CNN (model3) con MSE y RMSprop\u001b[39m\u001b[33m\"\u001b[39m)\n\u001b[32m---> \u001b[39m\u001b[32m23\u001b[39m \u001b[43mtrain_model\u001b[49m\u001b[43m(\u001b[49m\u001b[43mmodel3\u001b[49m\u001b[43m,\u001b[49m\u001b[43m \u001b[49m\u001b[43mcriterion_mse\u001b[49m\u001b[43m,\u001b[49m\u001b[43m \u001b[49m\u001b[43moptimizer_rmsprop\u001b[49m\u001b[43m)\u001b[49m\n",
      "\u001b[36mCell\u001b[39m\u001b[36m \u001b[39m\u001b[32mIn[51]\u001b[39m\u001b[32m, line 8\u001b[39m, in \u001b[36mtrain_model\u001b[39m\u001b[34m(model, criterion, optimizer, num_epochs)\u001b[39m\n\u001b[32m      6\u001b[39m \u001b[38;5;28;01mfor\u001b[39;00m X_batch, y_batch \u001b[38;5;129;01min\u001b[39;00m train_loader:\n\u001b[32m      7\u001b[39m     optimizer.zero_grad()\n\u001b[32m----> \u001b[39m\u001b[32m8\u001b[39m     outputs = \u001b[43mmodel\u001b[49m\u001b[43m(\u001b[49m\u001b[43mX_batch\u001b[49m\u001b[43m)\u001b[49m\n\u001b[32m      9\u001b[39m     loss = criterion(outputs, y_batch)\n\u001b[32m     10\u001b[39m     loss.backward()\n",
      "\u001b[36mFile \u001b[39m\u001b[32m~/miniconda3/lib/python3.12/site-packages/torch/nn/modules/module.py:1739\u001b[39m, in \u001b[36mModule._wrapped_call_impl\u001b[39m\u001b[34m(self, *args, **kwargs)\u001b[39m\n\u001b[32m   1737\u001b[39m     \u001b[38;5;28;01mreturn\u001b[39;00m \u001b[38;5;28mself\u001b[39m._compiled_call_impl(*args, **kwargs)  \u001b[38;5;66;03m# type: ignore[misc]\u001b[39;00m\n\u001b[32m   1738\u001b[39m \u001b[38;5;28;01melse\u001b[39;00m:\n\u001b[32m-> \u001b[39m\u001b[32m1739\u001b[39m     \u001b[38;5;28;01mreturn\u001b[39;00m \u001b[38;5;28;43mself\u001b[39;49m\u001b[43m.\u001b[49m\u001b[43m_call_impl\u001b[49m\u001b[43m(\u001b[49m\u001b[43m*\u001b[49m\u001b[43margs\u001b[49m\u001b[43m,\u001b[49m\u001b[43m \u001b[49m\u001b[43m*\u001b[49m\u001b[43m*\u001b[49m\u001b[43mkwargs\u001b[49m\u001b[43m)\u001b[49m\n",
      "\u001b[36mFile \u001b[39m\u001b[32m~/miniconda3/lib/python3.12/site-packages/torch/nn/modules/module.py:1750\u001b[39m, in \u001b[36mModule._call_impl\u001b[39m\u001b[34m(self, *args, **kwargs)\u001b[39m\n\u001b[32m   1745\u001b[39m \u001b[38;5;66;03m# If we don't have any hooks, we want to skip the rest of the logic in\u001b[39;00m\n\u001b[32m   1746\u001b[39m \u001b[38;5;66;03m# this function, and just call forward.\u001b[39;00m\n\u001b[32m   1747\u001b[39m \u001b[38;5;28;01mif\u001b[39;00m \u001b[38;5;129;01mnot\u001b[39;00m (\u001b[38;5;28mself\u001b[39m._backward_hooks \u001b[38;5;129;01mor\u001b[39;00m \u001b[38;5;28mself\u001b[39m._backward_pre_hooks \u001b[38;5;129;01mor\u001b[39;00m \u001b[38;5;28mself\u001b[39m._forward_hooks \u001b[38;5;129;01mor\u001b[39;00m \u001b[38;5;28mself\u001b[39m._forward_pre_hooks\n\u001b[32m   1748\u001b[39m         \u001b[38;5;129;01mor\u001b[39;00m _global_backward_pre_hooks \u001b[38;5;129;01mor\u001b[39;00m _global_backward_hooks\n\u001b[32m   1749\u001b[39m         \u001b[38;5;129;01mor\u001b[39;00m _global_forward_hooks \u001b[38;5;129;01mor\u001b[39;00m _global_forward_pre_hooks):\n\u001b[32m-> \u001b[39m\u001b[32m1750\u001b[39m     \u001b[38;5;28;01mreturn\u001b[39;00m \u001b[43mforward_call\u001b[49m\u001b[43m(\u001b[49m\u001b[43m*\u001b[49m\u001b[43margs\u001b[49m\u001b[43m,\u001b[49m\u001b[43m \u001b[49m\u001b[43m*\u001b[49m\u001b[43m*\u001b[49m\u001b[43mkwargs\u001b[49m\u001b[43m)\u001b[49m\n\u001b[32m   1752\u001b[39m result = \u001b[38;5;28;01mNone\u001b[39;00m\n\u001b[32m   1753\u001b[39m called_always_called_hooks = \u001b[38;5;28mset\u001b[39m()\n",
      "\u001b[36mCell\u001b[39m\u001b[36m \u001b[39m\u001b[32mIn[39]\u001b[39m\u001b[32m, line 21\u001b[39m, in \u001b[36mCNNModel.forward\u001b[39m\u001b[34m(self, x)\u001b[39m\n\u001b[32m     20\u001b[39m \u001b[38;5;28;01mdef\u001b[39;00m \u001b[34mforward\u001b[39m(\u001b[38;5;28mself\u001b[39m, x):\n\u001b[32m---> \u001b[39m\u001b[32m21\u001b[39m     x = \u001b[38;5;28;43mself\u001b[39;49m\u001b[43m.\u001b[49m\u001b[43mconv_layers\u001b[49m\u001b[43m(\u001b[49m\u001b[43mx\u001b[49m\u001b[43m)\u001b[49m\n\u001b[32m     22\u001b[39m     x = \u001b[38;5;28mself\u001b[39m.flatten(x)\n\u001b[32m     23\u001b[39m     x = \u001b[38;5;28mself\u001b[39m.fc(x)\n",
      "\u001b[36mFile \u001b[39m\u001b[32m~/miniconda3/lib/python3.12/site-packages/torch/nn/modules/module.py:1739\u001b[39m, in \u001b[36mModule._wrapped_call_impl\u001b[39m\u001b[34m(self, *args, **kwargs)\u001b[39m\n\u001b[32m   1737\u001b[39m     \u001b[38;5;28;01mreturn\u001b[39;00m \u001b[38;5;28mself\u001b[39m._compiled_call_impl(*args, **kwargs)  \u001b[38;5;66;03m# type: ignore[misc]\u001b[39;00m\n\u001b[32m   1738\u001b[39m \u001b[38;5;28;01melse\u001b[39;00m:\n\u001b[32m-> \u001b[39m\u001b[32m1739\u001b[39m     \u001b[38;5;28;01mreturn\u001b[39;00m \u001b[38;5;28;43mself\u001b[39;49m\u001b[43m.\u001b[49m\u001b[43m_call_impl\u001b[49m\u001b[43m(\u001b[49m\u001b[43m*\u001b[49m\u001b[43margs\u001b[49m\u001b[43m,\u001b[49m\u001b[43m \u001b[49m\u001b[43m*\u001b[49m\u001b[43m*\u001b[49m\u001b[43mkwargs\u001b[49m\u001b[43m)\u001b[49m\n",
      "\u001b[36mFile \u001b[39m\u001b[32m~/miniconda3/lib/python3.12/site-packages/torch/nn/modules/module.py:1750\u001b[39m, in \u001b[36mModule._call_impl\u001b[39m\u001b[34m(self, *args, **kwargs)\u001b[39m\n\u001b[32m   1745\u001b[39m \u001b[38;5;66;03m# If we don't have any hooks, we want to skip the rest of the logic in\u001b[39;00m\n\u001b[32m   1746\u001b[39m \u001b[38;5;66;03m# this function, and just call forward.\u001b[39;00m\n\u001b[32m   1747\u001b[39m \u001b[38;5;28;01mif\u001b[39;00m \u001b[38;5;129;01mnot\u001b[39;00m (\u001b[38;5;28mself\u001b[39m._backward_hooks \u001b[38;5;129;01mor\u001b[39;00m \u001b[38;5;28mself\u001b[39m._backward_pre_hooks \u001b[38;5;129;01mor\u001b[39;00m \u001b[38;5;28mself\u001b[39m._forward_hooks \u001b[38;5;129;01mor\u001b[39;00m \u001b[38;5;28mself\u001b[39m._forward_pre_hooks\n\u001b[32m   1748\u001b[39m         \u001b[38;5;129;01mor\u001b[39;00m _global_backward_pre_hooks \u001b[38;5;129;01mor\u001b[39;00m _global_backward_hooks\n\u001b[32m   1749\u001b[39m         \u001b[38;5;129;01mor\u001b[39;00m _global_forward_hooks \u001b[38;5;129;01mor\u001b[39;00m _global_forward_pre_hooks):\n\u001b[32m-> \u001b[39m\u001b[32m1750\u001b[39m     \u001b[38;5;28;01mreturn\u001b[39;00m \u001b[43mforward_call\u001b[49m\u001b[43m(\u001b[49m\u001b[43m*\u001b[49m\u001b[43margs\u001b[49m\u001b[43m,\u001b[49m\u001b[43m \u001b[49m\u001b[43m*\u001b[49m\u001b[43m*\u001b[49m\u001b[43mkwargs\u001b[49m\u001b[43m)\u001b[49m\n\u001b[32m   1752\u001b[39m result = \u001b[38;5;28;01mNone\u001b[39;00m\n\u001b[32m   1753\u001b[39m called_always_called_hooks = \u001b[38;5;28mset\u001b[39m()\n",
      "\u001b[36mFile \u001b[39m\u001b[32m~/miniconda3/lib/python3.12/site-packages/torch/nn/modules/container.py:250\u001b[39m, in \u001b[36mSequential.forward\u001b[39m\u001b[34m(self, input)\u001b[39m\n\u001b[32m    248\u001b[39m \u001b[38;5;28;01mdef\u001b[39;00m \u001b[34mforward\u001b[39m(\u001b[38;5;28mself\u001b[39m, \u001b[38;5;28minput\u001b[39m):\n\u001b[32m    249\u001b[39m     \u001b[38;5;28;01mfor\u001b[39;00m module \u001b[38;5;129;01min\u001b[39;00m \u001b[38;5;28mself\u001b[39m:\n\u001b[32m--> \u001b[39m\u001b[32m250\u001b[39m         \u001b[38;5;28minput\u001b[39m = \u001b[43mmodule\u001b[49m\u001b[43m(\u001b[49m\u001b[38;5;28;43minput\u001b[39;49m\u001b[43m)\u001b[49m\n\u001b[32m    251\u001b[39m     \u001b[38;5;28;01mreturn\u001b[39;00m \u001b[38;5;28minput\u001b[39m\n",
      "\u001b[36mFile \u001b[39m\u001b[32m~/miniconda3/lib/python3.12/site-packages/torch/nn/modules/module.py:1739\u001b[39m, in \u001b[36mModule._wrapped_call_impl\u001b[39m\u001b[34m(self, *args, **kwargs)\u001b[39m\n\u001b[32m   1737\u001b[39m     \u001b[38;5;28;01mreturn\u001b[39;00m \u001b[38;5;28mself\u001b[39m._compiled_call_impl(*args, **kwargs)  \u001b[38;5;66;03m# type: ignore[misc]\u001b[39;00m\n\u001b[32m   1738\u001b[39m \u001b[38;5;28;01melse\u001b[39;00m:\n\u001b[32m-> \u001b[39m\u001b[32m1739\u001b[39m     \u001b[38;5;28;01mreturn\u001b[39;00m \u001b[38;5;28;43mself\u001b[39;49m\u001b[43m.\u001b[49m\u001b[43m_call_impl\u001b[49m\u001b[43m(\u001b[49m\u001b[43m*\u001b[49m\u001b[43margs\u001b[49m\u001b[43m,\u001b[49m\u001b[43m \u001b[49m\u001b[43m*\u001b[49m\u001b[43m*\u001b[49m\u001b[43mkwargs\u001b[49m\u001b[43m)\u001b[49m\n",
      "\u001b[36mFile \u001b[39m\u001b[32m~/miniconda3/lib/python3.12/site-packages/torch/nn/modules/module.py:1750\u001b[39m, in \u001b[36mModule._call_impl\u001b[39m\u001b[34m(self, *args, **kwargs)\u001b[39m\n\u001b[32m   1745\u001b[39m \u001b[38;5;66;03m# If we don't have any hooks, we want to skip the rest of the logic in\u001b[39;00m\n\u001b[32m   1746\u001b[39m \u001b[38;5;66;03m# this function, and just call forward.\u001b[39;00m\n\u001b[32m   1747\u001b[39m \u001b[38;5;28;01mif\u001b[39;00m \u001b[38;5;129;01mnot\u001b[39;00m (\u001b[38;5;28mself\u001b[39m._backward_hooks \u001b[38;5;129;01mor\u001b[39;00m \u001b[38;5;28mself\u001b[39m._backward_pre_hooks \u001b[38;5;129;01mor\u001b[39;00m \u001b[38;5;28mself\u001b[39m._forward_hooks \u001b[38;5;129;01mor\u001b[39;00m \u001b[38;5;28mself\u001b[39m._forward_pre_hooks\n\u001b[32m   1748\u001b[39m         \u001b[38;5;129;01mor\u001b[39;00m _global_backward_pre_hooks \u001b[38;5;129;01mor\u001b[39;00m _global_backward_hooks\n\u001b[32m   1749\u001b[39m         \u001b[38;5;129;01mor\u001b[39;00m _global_forward_hooks \u001b[38;5;129;01mor\u001b[39;00m _global_forward_pre_hooks):\n\u001b[32m-> \u001b[39m\u001b[32m1750\u001b[39m     \u001b[38;5;28;01mreturn\u001b[39;00m \u001b[43mforward_call\u001b[49m\u001b[43m(\u001b[49m\u001b[43m*\u001b[49m\u001b[43margs\u001b[49m\u001b[43m,\u001b[49m\u001b[43m \u001b[49m\u001b[43m*\u001b[49m\u001b[43m*\u001b[49m\u001b[43mkwargs\u001b[49m\u001b[43m)\u001b[49m\n\u001b[32m   1752\u001b[39m result = \u001b[38;5;28;01mNone\u001b[39;00m\n\u001b[32m   1753\u001b[39m called_always_called_hooks = \u001b[38;5;28mset\u001b[39m()\n",
      "\u001b[36mFile \u001b[39m\u001b[32m~/miniconda3/lib/python3.12/site-packages/torch/nn/modules/conv.py:375\u001b[39m, in \u001b[36mConv1d.forward\u001b[39m\u001b[34m(self, input)\u001b[39m\n\u001b[32m    374\u001b[39m \u001b[38;5;28;01mdef\u001b[39;00m \u001b[34mforward\u001b[39m(\u001b[38;5;28mself\u001b[39m, \u001b[38;5;28minput\u001b[39m: Tensor) -> Tensor:\n\u001b[32m--> \u001b[39m\u001b[32m375\u001b[39m     \u001b[38;5;28;01mreturn\u001b[39;00m \u001b[38;5;28;43mself\u001b[39;49m\u001b[43m.\u001b[49m\u001b[43m_conv_forward\u001b[49m\u001b[43m(\u001b[49m\u001b[38;5;28;43minput\u001b[39;49m\u001b[43m,\u001b[49m\u001b[43m \u001b[49m\u001b[38;5;28;43mself\u001b[39;49m\u001b[43m.\u001b[49m\u001b[43mweight\u001b[49m\u001b[43m,\u001b[49m\u001b[43m \u001b[49m\u001b[38;5;28;43mself\u001b[39;49m\u001b[43m.\u001b[49m\u001b[43mbias\u001b[49m\u001b[43m)\u001b[49m\n",
      "\u001b[36mFile \u001b[39m\u001b[32m~/miniconda3/lib/python3.12/site-packages/torch/nn/modules/conv.py:370\u001b[39m, in \u001b[36mConv1d._conv_forward\u001b[39m\u001b[34m(self, input, weight, bias)\u001b[39m\n\u001b[32m    358\u001b[39m \u001b[38;5;28;01mif\u001b[39;00m \u001b[38;5;28mself\u001b[39m.padding_mode != \u001b[33m\"\u001b[39m\u001b[33mzeros\u001b[39m\u001b[33m\"\u001b[39m:\n\u001b[32m    359\u001b[39m     \u001b[38;5;28;01mreturn\u001b[39;00m F.conv1d(\n\u001b[32m    360\u001b[39m         F.pad(\n\u001b[32m    361\u001b[39m             \u001b[38;5;28minput\u001b[39m, \u001b[38;5;28mself\u001b[39m._reversed_padding_repeated_twice, mode=\u001b[38;5;28mself\u001b[39m.padding_mode\n\u001b[32m   (...)\u001b[39m\u001b[32m    368\u001b[39m         \u001b[38;5;28mself\u001b[39m.groups,\n\u001b[32m    369\u001b[39m     )\n\u001b[32m--> \u001b[39m\u001b[32m370\u001b[39m \u001b[38;5;28;01mreturn\u001b[39;00m \u001b[43mF\u001b[49m\u001b[43m.\u001b[49m\u001b[43mconv1d\u001b[49m\u001b[43m(\u001b[49m\n\u001b[32m    371\u001b[39m \u001b[43m    \u001b[49m\u001b[38;5;28;43minput\u001b[39;49m\u001b[43m,\u001b[49m\u001b[43m \u001b[49m\u001b[43mweight\u001b[49m\u001b[43m,\u001b[49m\u001b[43m \u001b[49m\u001b[43mbias\u001b[49m\u001b[43m,\u001b[49m\u001b[43m \u001b[49m\u001b[38;5;28;43mself\u001b[39;49m\u001b[43m.\u001b[49m\u001b[43mstride\u001b[49m\u001b[43m,\u001b[49m\u001b[43m \u001b[49m\u001b[38;5;28;43mself\u001b[39;49m\u001b[43m.\u001b[49m\u001b[43mpadding\u001b[49m\u001b[43m,\u001b[49m\u001b[43m \u001b[49m\u001b[38;5;28;43mself\u001b[39;49m\u001b[43m.\u001b[49m\u001b[43mdilation\u001b[49m\u001b[43m,\u001b[49m\u001b[43m \u001b[49m\u001b[38;5;28;43mself\u001b[39;49m\u001b[43m.\u001b[49m\u001b[43mgroups\u001b[49m\n\u001b[32m    372\u001b[39m \u001b[43m\u001b[49m\u001b[43m)\u001b[49m\n",
      "\u001b[31mRuntimeError\u001b[39m: Given groups=1, weight of size [16, 1, 3], expected input[1, 32, 9] to have 1 channels, but got 32 channels instead"
     ]
    }
   ],
   "source": [
    "# Ajuste de hiperparámetros\n",
    "def train_model(model, criterion, optimizer, num_epochs=20):\n",
    "    for epoch in range(num_epochs):\n",
    "        model.train()\n",
    "        total_loss = 0\n",
    "        for X_batch, y_batch in train_loader:\n",
    "            optimizer.zero_grad()\n",
    "            outputs = model(X_batch)\n",
    "            loss = criterion(outputs, y_batch)\n",
    "            loss.backward()\n",
    "            optimizer.step()\n",
    "            total_loss += loss.item()\n",
    "        print(f\"Epoch [{epoch+1}/{num_epochs}], Loss: {total_loss/len(train_loader):.4f}\")\n",
    "\n",
    "# Ajuste de modelos\n",
    "print(\"Ajustando modelo MLP (model1) con MSE y Adam\")\n",
    "train_model(model1, criterion_mse, optimizer_adam)\n",
    "\n",
    "#print(\"Ajustando modelo RNN (model2) con SmoothL1 y SGD\")\n",
    "#train_model(model2, criterion_smooth_l1, optimizer_sgd)\n",
    "\n",
    "print(\"Ajustando modelo CNN (model3) con MSE y RMSprop\")\n",
    "train_model(model3, criterion_mse, optimizer_rmsprop)"
   ]
  },
  {
   "cell_type": "markdown",
   "id": "eb051e09",
   "metadata": {},
   "source": [
    "# 5. Entrenamiento y validación de los modelos\n",
    "\n",
    "Se define un loop de entrenamiento"
   ]
  },
  {
   "cell_type": "markdown",
   "id": "4a3b1a93",
   "metadata": {},
   "source": [
    "# 6. Evaluación y comparación de modelos\n",
    "\n",
    "## 6.1. Comparando MSE\n",
    "\n",
    "## 6.2. Comparando RMSE\n",
    "\n",
    "## 6.3, Comparando MAE\n",
    "\n",
    "## 6.4. Gráficas de predicciones vs valores reales\n",
    "\n",
    "## 6.5. Comparar rendimiento de cada arquitectura"
   ]
  },
  {
   "cell_type": "code",
   "execution_count": null,
   "id": "1d1a6108",
   "metadata": {},
   "outputs": [],
   "source": []
  }
 ],
 "metadata": {
  "kernelspec": {
   "display_name": "base",
   "language": "python",
   "name": "python3"
  },
  "language_info": {
   "codemirror_mode": {
    "name": "ipython",
    "version": 3
   },
   "file_extension": ".py",
   "mimetype": "text/x-python",
   "name": "python",
   "nbconvert_exporter": "python",
   "pygments_lexer": "ipython3",
   "version": "3.12.9"
  }
 },
 "nbformat": 4,
 "nbformat_minor": 5
}
