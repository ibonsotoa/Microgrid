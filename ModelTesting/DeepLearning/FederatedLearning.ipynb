{
 "cells": [
  {
   "cell_type": "markdown",
   "id": "c7cec4e8dc58754a",
   "metadata": {},
   "source": [
    "# MODELO FEDERADO"
   ]
  },
  {
   "cell_type": "markdown",
   "id": "44e5e5355c082c8",
   "metadata": {},
   "source": [
    "## IMPORTAR LIBRERÍAS"
   ]
  },
  {
   "cell_type": "code",
   "execution_count": 9,
   "id": "7388d69034bed509",
   "metadata": {
    "ExecuteTime": {
     "end_time": "2025-03-31T08:36:07.849005Z",
     "start_time": "2025-03-31T08:36:05.330141Z"
    }
   },
   "outputs": [],
   "source": [
    "import os\n",
    "import copy\n",
    "import numpy as np\n",
    "import pandas as pd\n",
    "import torch\n",
    "import torch.nn as nn\n",
    "import torch.optim as optim\n",
    "from torch.utils.data import TensorDataset, DataLoader\n",
    "from sklearn.preprocessing import StandardScaler\n",
    "from sklearn.metrics import mean_squared_error, mean_absolute_error, r2_score\n",
    "import matplotlib.pyplot as plt\n",
    "import random"
   ]
  },
  {
   "cell_type": "markdown",
   "id": "d6b44e7d52260b0d",
   "metadata": {},
   "source": [
    "## SEMILLA POR REPRODUCIBILIDAD"
   ]
  },
  {
   "cell_type": "code",
   "execution_count": 10,
   "id": "fec6751532386d06",
   "metadata": {
    "ExecuteTime": {
     "end_time": "2025-03-31T08:36:08.876687Z",
     "start_time": "2025-03-31T08:36:08.866306Z"
    }
   },
   "outputs": [],
   "source": [
    "seed = 42\n",
    "torch.manual_seed(seed)\n",
    "np.random.seed(seed)\n",
    "random.seed(seed)"
   ]
  },
  {
   "cell_type": "markdown",
   "id": "e8574ce372674101",
   "metadata": {},
   "source": [
    "## PREPROCESO DE LOS DATOS"
   ]
  },
  {
   "cell_type": "code",
   "execution_count": 11,
   "id": "28c7cb631480881a",
   "metadata": {
    "ExecuteTime": {
     "end_time": "2025-03-31T08:36:10.232883Z",
     "start_time": "2025-03-31T08:36:10.225883Z"
    }
   },
   "outputs": [],
   "source": [
    "folder_path = r\"/home/alkain/Escritorio/Github_Repositorios/Microgrid/TrainTestSplit\"\n",
    "device = torch.device(\"cuda\" if torch.cuda.is_available() else \"cpu\")\n",
    "\n",
    "def load_and_preprocess(files, all_sources):\n",
    "    df_list = []\n",
    "    for file in files:\n",
    "        file_path = os.path.join(folder_path, file)\n",
    "        df = pd.read_csv(file_path, parse_dates=[\"Time Stamp (local standard time) yyyy-mm-ddThh:mm:ss\"])\n",
    "        df = df.drop(columns='Time Stamp (local standard time) yyyy-mm-ddThh:mm:ss')\n",
    "        df_sampled = df.groupby('source', group_keys=False).apply(lambda x: x.sample(frac=0.4, random_state=42))\n",
    "        df_list.append(df_sampled)\n",
    "    full_df = pd.concat(df_list, ignore_index=True)\n",
    "    \n",
    "    full_df['source'] = pd.Categorical(full_df['source'], categories=all_sources)\n",
    "    full_df = pd.get_dummies(full_df, columns=['source'], prefix='src', dtype=np.float32)\n",
    "    \n",
    "    return full_df\n",
    "\n",
    "def prepare_data(df, scaler=None):\n",
    "    X = df.drop(columns=['Pmp (W)']).values.astype(np.float32)\n",
    "    y = df['Pmp (W)'].values.astype(np.float32)\n",
    "    if scaler is None:\n",
    "        scaler = StandardScaler()\n",
    "        X = scaler.fit_transform(X)\n",
    "    else:\n",
    "        X = scaler.transform(X)\n",
    "    X_tensor = torch.tensor(X).to(device)\n",
    "    y_tensor = torch.tensor(y).unsqueeze(1).to(device)\n",
    "    return X_tensor, y_tensor, scaler"
   ]
  },
  {
   "cell_type": "code",
   "execution_count": 12,
   "id": "848f8b2461eecb40",
   "metadata": {
    "ExecuteTime": {
     "end_time": "2025-03-31T08:36:12.329388Z",
     "start_time": "2025-03-31T08:36:12.324386Z"
    }
   },
   "outputs": [],
   "source": [
    "class EnhancedDNN(nn.Module):\n",
    "    def __init__(self, input_dim):\n",
    "        super().__init__()\n",
    "        self.model = nn.Sequential(\n",
    "            nn.Linear(input_dim, 512),\n",
    "            nn.BatchNorm1d(512),\n",
    "            nn.ReLU(),\n",
    "            nn.Dropout(0.5),\n",
    "            nn.Linear(512, 256),\n",
    "            nn.BatchNorm1d(256),\n",
    "            nn.ReLU(),\n",
    "            nn.Dropout(0.4),\n",
    "            nn.Linear(256, 128),\n",
    "            nn.ReLU(),\n",
    "            nn.Linear(128, 64),\n",
    "            nn.ReLU(),\n",
    "            nn.Linear(64, 1)\n",
    "        )\n",
    "        \n",
    "    def forward(self, x):\n",
    "        return self.model(x)"
   ]
  },
  {
   "cell_type": "markdown",
   "id": "ad9eb2f170d1db01",
   "metadata": {},
   "source": [
    "## DEFINICIÓN DE LOS HIPERPARÁMETROS\n",
    "En este caso, se simulará un proceso federado de 5 rondas de 40 épocas cada una para cada uno de los clientes. El resto de hiperparámetros son los mismos que en el modelo centralizado"
   ]
  },
  {
   "cell_type": "code",
   "execution_count": 13,
   "id": "41c47e1886f0db82",
   "metadata": {
    "ExecuteTime": {
     "end_time": "2025-03-31T08:36:13.775730Z",
     "start_time": "2025-03-31T08:36:13.772321Z"
    }
   },
   "outputs": [],
   "source": [
    "federated_rounds = 5       \n",
    "local_epochs = 40          \n",
    "batch_size = 512\n",
    "lr = 0.0001\n",
    "weight_decay = 1e-4"
   ]
  },
  {
   "cell_type": "markdown",
   "id": "bf4f734d5841f99a",
   "metadata": {},
   "source": [
    "## SEPARACIÓN DE LOS DATOS\n",
    "Se cogen los datos ya separados en el notebook TrainTestSplit"
   ]
  },
  {
   "cell_type": "code",
   "execution_count": 14,
   "id": "4f1e274429f0d759",
   "metadata": {
    "ExecuteTime": {
     "end_time": "2025-03-31T08:36:15.441675Z",
     "start_time": "2025-03-31T08:36:15.433851Z"
    }
   },
   "outputs": [],
   "source": [
    "clients = {\n",
    "    \"cocoa\": [f for f in os.listdir(folder_path) if f.endswith('.csv') and \"train\" in f and \"cocoa\" in f.lower()],\n",
    "    \"eugene\": [f for f in os.listdir(folder_path) if f.endswith('.csv') and \"train\" in f and \"eugene\" in f.lower()],\n",
    "    \"golden\": [f for f in os.listdir(folder_path) if f.endswith('.csv') and \"train\" in f and \"golden\" in f.lower()]\n",
    "}\n",
    "\n",
    "test_files = [f for f in os.listdir(folder_path) if f.endswith('.csv') and \"test\" in f]\n"
   ]
  },
  {
   "cell_type": "markdown",
   "id": "9f90a03f52edd973",
   "metadata": {},
   "source": [
    "## COGER COLUMNA SOURCE DEL ORIGEN ESPECÍFICO"
   ]
  },
  {
   "cell_type": "code",
   "execution_count": 15,
   "id": "967d1f9458057752",
   "metadata": {
    "ExecuteTime": {
     "end_time": "2025-03-31T08:36:17.526402Z",
     "start_time": "2025-03-31T08:36:16.850382Z"
    }
   },
   "outputs": [],
   "source": [
    "all_sources = set()\n",
    "\n",
    "for client_files in clients.values():\n",
    "    for file in client_files:\n",
    "        file_path = os.path.join(folder_path, file)\n",
    "        df_temp = pd.read_csv(file_path, usecols=['source'])\n",
    "        all_sources.update(df_temp['source'].unique())\n",
    "\n",
    "\n",
    "all_sources = sorted(all_sources) "
   ]
  },
  {
   "cell_type": "code",
   "execution_count": 16,
   "id": "7a1f70b7ad4758ac",
   "metadata": {
    "ExecuteTime": {
     "end_time": "2025-03-31T08:36:20.286744Z",
     "start_time": "2025-03-31T08:36:18.812183Z"
    }
   },
   "outputs": [
    {
     "name": "stderr",
     "output_type": "stream",
     "text": [
      "/tmp/ipykernel_14833/1941593120.py:10: DeprecationWarning: DataFrameGroupBy.apply operated on the grouping columns. This behavior is deprecated, and in a future version of pandas the grouping columns will be excluded from the operation. Either pass `include_groups=False` to exclude the groupings or explicitly select the grouping columns after groupby to silence this warning.\n",
      "  df_sampled = df.groupby('source', group_keys=False).apply(lambda x: x.sample(frac=0.4, random_state=42))\n",
      "/tmp/ipykernel_14833/1941593120.py:10: DeprecationWarning: DataFrameGroupBy.apply operated on the grouping columns. This behavior is deprecated, and in a future version of pandas the grouping columns will be excluded from the operation. Either pass `include_groups=False` to exclude the groupings or explicitly select the grouping columns after groupby to silence this warning.\n",
      "  df_sampled = df.groupby('source', group_keys=False).apply(lambda x: x.sample(frac=0.4, random_state=42))\n",
      "/tmp/ipykernel_14833/1941593120.py:10: DeprecationWarning: DataFrameGroupBy.apply operated on the grouping columns. This behavior is deprecated, and in a future version of pandas the grouping columns will be excluded from the operation. Either pass `include_groups=False` to exclude the groupings or explicitly select the grouping columns after groupby to silence this warning.\n",
      "  df_sampled = df.groupby('source', group_keys=False).apply(lambda x: x.sample(frac=0.4, random_state=42))\n",
      "/tmp/ipykernel_14833/1941593120.py:10: DeprecationWarning: DataFrameGroupBy.apply operated on the grouping columns. This behavior is deprecated, and in a future version of pandas the grouping columns will be excluded from the operation. Either pass `include_groups=False` to exclude the groupings or explicitly select the grouping columns after groupby to silence this warning.\n",
      "  df_sampled = df.groupby('source', group_keys=False).apply(lambda x: x.sample(frac=0.4, random_state=42))\n"
     ]
    }
   ],
   "source": [
    "temp_df = load_and_preprocess(clients[\"cocoa\"], all_sources)\n",
    "X_temp, y_temp, scaler = prepare_data(temp_df)  \n",
    "\n",
    "test_df = load_and_preprocess(test_files, all_sources)\n",
    "\n",
    "input_dim = X_temp.shape[1]"
   ]
  },
  {
   "cell_type": "markdown",
   "id": "8035cb863a40ef",
   "metadata": {},
   "source": [
    "## INICIALIZACIÓN DEL MODELO Y CARGA DE PESOS DEL MODELO CENTRALIZADO"
   ]
  },
  {
   "cell_type": "code",
   "execution_count": null,
   "id": "ed0e968988cc0472",
   "metadata": {
    "ExecuteTime": {
     "end_time": "2025-03-28T19:44:57.368217Z",
     "start_time": "2025-03-28T19:44:57.294444Z"
    }
   },
   "outputs": [
    {
     "data": {
      "text/plain": [
       "EnhancedDNN(\n",
       "  (model): Sequential(\n",
       "    (0): Linear(in_features=42, out_features=512, bias=True)\n",
       "    (1): BatchNorm1d(512, eps=1e-05, momentum=0.1, affine=True, track_running_stats=True)\n",
       "    (2): ReLU()\n",
       "    (3): Dropout(p=0.5, inplace=False)\n",
       "    (4): Linear(in_features=512, out_features=256, bias=True)\n",
       "    (5): BatchNorm1d(256, eps=1e-05, momentum=0.1, affine=True, track_running_stats=True)\n",
       "    (6): ReLU()\n",
       "    (7): Dropout(p=0.4, inplace=False)\n",
       "    (8): Linear(in_features=256, out_features=128, bias=True)\n",
       "    (9): ReLU()\n",
       "    (10): Linear(in_features=128, out_features=64, bias=True)\n",
       "    (11): ReLU()\n",
       "    (12): Linear(in_features=64, out_features=1, bias=True)\n",
       "  )\n",
       ")"
      ]
     },
     "execution_count": 17,
     "metadata": {},
     "output_type": "execute_result"
    }
   ],
   "source": [
    "global_model = EnhancedDNN(input_dim).to(device)\n",
    "\n",
    "#state_dict = torch.load(r\"/home/alkain/Escritorio/Github_Repositorios/Microgrid/TrainTestSplit\")\n",
    "#global_model.load_state_dict(state_dict)\n",
    "\n",
    "global_model.train()"
   ]
  },
  {
   "cell_type": "markdown",
   "id": "6e2054a9bade19fa",
   "metadata": {},
   "source": [
    "## DEFINICIÓN DE LA FUNCIÓN DE ENTRENAMIENTO"
   ]
  },
  {
   "cell_type": "code",
   "execution_count": 18,
   "id": "6e2ff7772e2391de",
   "metadata": {
    "ExecuteTime": {
     "end_time": "2025-03-28T19:44:57.624139Z",
     "start_time": "2025-03-28T19:44:57.617757Z"
    }
   },
   "outputs": [],
   "source": [
    "def local_train(model, train_loader, criterion, optimizer, epochs):\n",
    "    model.train()\n",
    "    for epoch in range(epochs):\n",
    "        running_loss = 0.0\n",
    "        for xb, yb in train_loader:\n",
    "            optimizer.zero_grad()\n",
    "            outputs = model(xb)\n",
    "            loss = criterion(outputs, yb)\n",
    "            loss.backward()\n",
    "            optimizer.step()\n",
    "            running_loss += loss.item() * xb.size(0)\n",
    "        avg_loss = running_loss / len(train_loader.dataset)\n",
    "        print(f\"Local epoch {epoch+1}, Loss: {avg_loss:.4f}\")\n",
    "    return model.state_dict(), len(train_loader.dataset)"
   ]
  },
  {
   "cell_type": "markdown",
   "id": "40b2ee035b5d8c0b",
   "metadata": {},
   "source": [
    "## DEFINICIÓN DE LA FUNCIÓN FEDERAGED AVERAGING PARA COMBINAR LOS PESOS DE LOS MODELOS DE CADA CLIENTE"
   ]
  },
  {
   "cell_type": "code",
   "execution_count": 19,
   "id": "ef3ef47eb2a7200b",
   "metadata": {
    "ExecuteTime": {
     "end_time": "2025-03-28T19:44:57.730559Z",
     "start_time": "2025-03-28T19:44:57.718734Z"
    }
   },
   "outputs": [],
   "source": [
    "def fed_avg(state_dicts, data_sizes):\n",
    "    avg_state = copy.deepcopy(state_dicts[0])\n",
    "    total_samples = sum(data_sizes)\n",
    "\n",
    "    for key in avg_state.keys():\n",
    "        if avg_state[key].dtype in [torch.int64, torch.long]:\n",
    "            avg_state[key] = state_dicts[0][key].clone()\n",
    "        else:\n",
    "            avg_state[key] = torch.zeros_like(avg_state[key], dtype=torch.float32)\n",
    "\n",
    "            for state, size in zip(state_dicts, data_sizes):\n",
    "                weight = size / total_samples\n",
    "                avg_state[key] += state[key].float() * weight\n",
    "\n",
    "    return avg_state"
   ]
  },
  {
   "cell_type": "markdown",
   "id": "611b11a11a537a06",
   "metadata": {},
   "source": [
    "## ENTRENAMIENTO DE CADA CLIENTE Y ACTUALIZACIÓN DEL MODELO GLOBAL"
   ]
  },
  {
   "cell_type": "code",
   "execution_count": 20,
   "id": "d8348cbe337db272",
   "metadata": {
    "ExecuteTime": {
     "end_time": "2025-03-28T21:25:31.581670Z",
     "start_time": "2025-03-28T19:44:57.830934Z"
    }
   },
   "outputs": [
    {
     "name": "stdout",
     "output_type": "stream",
     "text": [
      "=== Iniciando entrenamiento federado ===\n",
      "\n",
      "--- Ronda Federada 1 ---\n",
      "Entrenando cliente: cocoa\n"
     ]
    },
    {
     "name": "stderr",
     "output_type": "stream",
     "text": [
      "/tmp/ipykernel_14833/1941593120.py:10: DeprecationWarning: DataFrameGroupBy.apply operated on the grouping columns. This behavior is deprecated, and in a future version of pandas the grouping columns will be excluded from the operation. Either pass `include_groups=False` to exclude the groupings or explicitly select the grouping columns after groupby to silence this warning.\n",
      "  df_sampled = df.groupby('source', group_keys=False).apply(lambda x: x.sample(frac=0.4, random_state=42))\n"
     ]
    },
    {
     "name": "stdout",
     "output_type": "stream",
     "text": [
      "Local epoch 1, Loss: 1671.4203\n",
      "Local epoch 2, Loss: 90.5187\n",
      "Local epoch 3, Loss: 57.2548\n",
      "Local epoch 4, Loss: 49.9725\n",
      "Local epoch 5, Loss: 45.4437\n",
      "Local epoch 6, Loss: 42.3940\n",
      "Local epoch 7, Loss: 41.3286\n",
      "Local epoch 8, Loss: 38.7537\n",
      "Local epoch 9, Loss: 37.8121\n",
      "Local epoch 10, Loss: 35.2536\n",
      "Local epoch 11, Loss: 35.3497\n",
      "Local epoch 12, Loss: 33.5889\n",
      "Local epoch 13, Loss: 32.8220\n",
      "Local epoch 14, Loss: 32.0665\n",
      "Local epoch 15, Loss: 32.7658\n",
      "Local epoch 16, Loss: 30.9312\n",
      "Local epoch 17, Loss: 30.8077\n",
      "Local epoch 18, Loss: 29.7028\n",
      "Local epoch 19, Loss: 29.7520\n",
      "Local epoch 20, Loss: 29.3604\n",
      "Local epoch 21, Loss: 28.6650\n",
      "Local epoch 22, Loss: 28.8726\n",
      "Local epoch 23, Loss: 27.2380\n",
      "Local epoch 24, Loss: 28.2740\n",
      "Local epoch 25, Loss: 27.8466\n",
      "Local epoch 26, Loss: 27.1739\n",
      "Local epoch 27, Loss: 26.9876\n",
      "Local epoch 28, Loss: 26.0994\n",
      "Local epoch 29, Loss: 26.6307\n",
      "Local epoch 30, Loss: 26.1840\n",
      "Local epoch 31, Loss: 26.1541\n",
      "Local epoch 32, Loss: 25.2873\n",
      "Local epoch 33, Loss: 26.0594\n",
      "Local epoch 34, Loss: 24.1646\n",
      "Local epoch 35, Loss: 25.8507\n",
      "Local epoch 36, Loss: 24.5991\n",
      "Local epoch 37, Loss: 24.9223\n",
      "Local epoch 38, Loss: 23.6596\n",
      "Local epoch 39, Loss: 23.6635\n",
      "Local epoch 40, Loss: 24.3118\n",
      "Entrenando cliente: eugene\n"
     ]
    },
    {
     "name": "stderr",
     "output_type": "stream",
     "text": [
      "/tmp/ipykernel_14833/1941593120.py:10: DeprecationWarning: DataFrameGroupBy.apply operated on the grouping columns. This behavior is deprecated, and in a future version of pandas the grouping columns will be excluded from the operation. Either pass `include_groups=False` to exclude the groupings or explicitly select the grouping columns after groupby to silence this warning.\n",
      "  df_sampled = df.groupby('source', group_keys=False).apply(lambda x: x.sample(frac=0.4, random_state=42))\n"
     ]
    },
    {
     "name": "stdout",
     "output_type": "stream",
     "text": [
      "Local epoch 1, Loss: 1120.7485\n",
      "Local epoch 2, Loss: 84.9088\n",
      "Local epoch 3, Loss: 62.1379\n",
      "Local epoch 4, Loss: 52.4255\n",
      "Local epoch 5, Loss: 45.9309\n",
      "Local epoch 6, Loss: 42.1570\n",
      "Local epoch 7, Loss: 37.8286\n",
      "Local epoch 8, Loss: 35.7797\n",
      "Local epoch 9, Loss: 33.1633\n",
      "Local epoch 10, Loss: 33.4098\n",
      "Local epoch 11, Loss: 30.0396\n",
      "Local epoch 12, Loss: 29.8570\n",
      "Local epoch 13, Loss: 29.3942\n",
      "Local epoch 14, Loss: 28.4180\n",
      "Local epoch 15, Loss: 27.6575\n",
      "Local epoch 16, Loss: 26.8807\n",
      "Local epoch 17, Loss: 25.6334\n",
      "Local epoch 18, Loss: 25.7196\n",
      "Local epoch 19, Loss: 25.7514\n",
      "Local epoch 20, Loss: 24.3822\n",
      "Local epoch 21, Loss: 23.7208\n",
      "Local epoch 22, Loss: 23.4804\n",
      "Local epoch 23, Loss: 24.1210\n",
      "Local epoch 24, Loss: 22.3770\n",
      "Local epoch 25, Loss: 23.1694\n",
      "Local epoch 26, Loss: 22.4201\n",
      "Local epoch 27, Loss: 22.0764\n",
      "Local epoch 28, Loss: 22.2984\n",
      "Local epoch 29, Loss: 21.1423\n",
      "Local epoch 30, Loss: 21.3046\n",
      "Local epoch 31, Loss: 21.2510\n",
      "Local epoch 32, Loss: 21.4230\n",
      "Local epoch 33, Loss: 20.7592\n",
      "Local epoch 34, Loss: 22.2756\n",
      "Local epoch 35, Loss: 20.0260\n",
      "Local epoch 36, Loss: 19.5138\n",
      "Local epoch 37, Loss: 20.7761\n",
      "Local epoch 38, Loss: 20.5163\n",
      "Local epoch 39, Loss: 19.6253\n",
      "Local epoch 40, Loss: 18.9464\n",
      "Entrenando cliente: golden\n"
     ]
    },
    {
     "name": "stderr",
     "output_type": "stream",
     "text": [
      "/tmp/ipykernel_14833/1941593120.py:10: DeprecationWarning: DataFrameGroupBy.apply operated on the grouping columns. This behavior is deprecated, and in a future version of pandas the grouping columns will be excluded from the operation. Either pass `include_groups=False` to exclude the groupings or explicitly select the grouping columns after groupby to silence this warning.\n",
      "  df_sampled = df.groupby('source', group_keys=False).apply(lambda x: x.sample(frac=0.4, random_state=42))\n"
     ]
    },
    {
     "name": "stdout",
     "output_type": "stream",
     "text": [
      "Local epoch 1, Loss: 3291.3043\n",
      "Local epoch 2, Loss: 2994.8697\n",
      "Local epoch 3, Loss: 2092.0876\n",
      "Local epoch 4, Loss: 842.1536\n",
      "Local epoch 5, Loss: 249.2225\n",
      "Local epoch 6, Loss: 153.7716\n",
      "Local epoch 7, Loss: 127.9928\n",
      "Local epoch 8, Loss: 112.2954\n",
      "Local epoch 9, Loss: 101.4054\n",
      "Local epoch 10, Loss: 95.3917\n",
      "Local epoch 11, Loss: 91.9252\n",
      "Local epoch 12, Loss: 87.4367\n",
      "Local epoch 13, Loss: 80.5477\n",
      "Local epoch 14, Loss: 76.8457\n",
      "Local epoch 15, Loss: 74.1594\n",
      "Local epoch 16, Loss: 73.2275\n",
      "Local epoch 17, Loss: 70.4003\n",
      "Local epoch 18, Loss: 69.7334\n",
      "Local epoch 19, Loss: 66.1507\n",
      "Local epoch 20, Loss: 63.4026\n",
      "Local epoch 21, Loss: 63.5801\n",
      "Local epoch 22, Loss: 61.2622\n",
      "Local epoch 23, Loss: 59.8805\n",
      "Local epoch 24, Loss: 59.3439\n",
      "Local epoch 25, Loss: 56.8516\n",
      "Local epoch 26, Loss: 56.8842\n",
      "Local epoch 27, Loss: 57.2239\n",
      "Local epoch 28, Loss: 55.3807\n",
      "Local epoch 29, Loss: 51.8792\n",
      "Local epoch 30, Loss: 53.5962\n",
      "Local epoch 31, Loss: 49.8403\n",
      "Local epoch 32, Loss: 49.6739\n",
      "Local epoch 33, Loss: 50.6531\n",
      "Local epoch 34, Loss: 50.2000\n",
      "Local epoch 35, Loss: 48.1950\n",
      "Local epoch 36, Loss: 49.2203\n",
      "Local epoch 37, Loss: 47.4946\n",
      "Local epoch 38, Loss: 46.6500\n",
      "Local epoch 39, Loss: 45.4156\n",
      "Local epoch 40, Loss: 46.5930\n",
      "Ronda 1 completada. Se han promediado los pesos de 3 clientes.\n",
      "Test MSE después de ronda 1: 800.8080\n",
      "Nuevo mejor modelo federado guardado: best_federated_model.pth\n",
      "\n",
      "--- Ronda Federada 2 ---\n",
      "Entrenando cliente: cocoa\n"
     ]
    },
    {
     "name": "stderr",
     "output_type": "stream",
     "text": [
      "/tmp/ipykernel_14833/1941593120.py:10: DeprecationWarning: DataFrameGroupBy.apply operated on the grouping columns. This behavior is deprecated, and in a future version of pandas the grouping columns will be excluded from the operation. Either pass `include_groups=False` to exclude the groupings or explicitly select the grouping columns after groupby to silence this warning.\n",
      "  df_sampled = df.groupby('source', group_keys=False).apply(lambda x: x.sample(frac=0.4, random_state=42))\n"
     ]
    },
    {
     "name": "stdout",
     "output_type": "stream",
     "text": [
      "Local epoch 1, Loss: 48.7763\n",
      "Local epoch 2, Loss: 29.9600\n",
      "Local epoch 3, Loss: 28.4060\n",
      "Local epoch 4, Loss: 26.4358\n",
      "Local epoch 5, Loss: 26.6009\n",
      "Local epoch 6, Loss: 25.8250\n",
      "Local epoch 7, Loss: 25.3331\n",
      "Local epoch 8, Loss: 24.2384\n",
      "Local epoch 9, Loss: 24.4216\n",
      "Local epoch 10, Loss: 23.4098\n",
      "Local epoch 11, Loss: 24.1388\n",
      "Local epoch 12, Loss: 23.9425\n",
      "Local epoch 13, Loss: 23.4677\n",
      "Local epoch 14, Loss: 23.3597\n",
      "Local epoch 15, Loss: 22.9317\n",
      "Local epoch 16, Loss: 22.2484\n",
      "Local epoch 17, Loss: 22.2236\n",
      "Local epoch 18, Loss: 22.2280\n",
      "Local epoch 19, Loss: 22.3876\n",
      "Local epoch 20, Loss: 22.5258\n",
      "Local epoch 21, Loss: 23.0866\n",
      "Local epoch 22, Loss: 22.6372\n",
      "Local epoch 23, Loss: 21.7584\n",
      "Local epoch 24, Loss: 21.7748\n",
      "Local epoch 25, Loss: 21.2596\n",
      "Local epoch 26, Loss: 21.3636\n",
      "Local epoch 27, Loss: 20.9184\n",
      "Local epoch 28, Loss: 20.1773\n",
      "Local epoch 29, Loss: 19.7417\n",
      "Local epoch 30, Loss: 20.0187\n",
      "Local epoch 31, Loss: 20.7945\n",
      "Local epoch 32, Loss: 20.2842\n",
      "Local epoch 33, Loss: 20.2191\n",
      "Local epoch 34, Loss: 20.1737\n",
      "Local epoch 35, Loss: 19.4162\n",
      "Local epoch 36, Loss: 20.3004\n",
      "Local epoch 37, Loss: 19.9640\n",
      "Local epoch 38, Loss: 19.8332\n",
      "Local epoch 39, Loss: 19.6400\n",
      "Local epoch 40, Loss: 19.1930\n",
      "Entrenando cliente: eugene\n"
     ]
    },
    {
     "name": "stderr",
     "output_type": "stream",
     "text": [
      "/tmp/ipykernel_14833/1941593120.py:10: DeprecationWarning: DataFrameGroupBy.apply operated on the grouping columns. This behavior is deprecated, and in a future version of pandas the grouping columns will be excluded from the operation. Either pass `include_groups=False` to exclude the groupings or explicitly select the grouping columns after groupby to silence this warning.\n",
      "  df_sampled = df.groupby('source', group_keys=False).apply(lambda x: x.sample(frac=0.4, random_state=42))\n"
     ]
    },
    {
     "name": "stdout",
     "output_type": "stream",
     "text": [
      "Local epoch 1, Loss: 58.2619\n",
      "Local epoch 2, Loss: 30.3747\n",
      "Local epoch 3, Loss: 26.5814\n",
      "Local epoch 4, Loss: 24.5382\n",
      "Local epoch 5, Loss: 23.0546\n",
      "Local epoch 6, Loss: 22.9056\n",
      "Local epoch 7, Loss: 21.6230\n",
      "Local epoch 8, Loss: 21.0164\n",
      "Local epoch 9, Loss: 20.9779\n",
      "Local epoch 10, Loss: 20.0939\n",
      "Local epoch 11, Loss: 19.6361\n",
      "Local epoch 12, Loss: 19.8119\n",
      "Local epoch 13, Loss: 20.0892\n",
      "Local epoch 14, Loss: 19.6253\n",
      "Local epoch 15, Loss: 19.1315\n",
      "Local epoch 16, Loss: 18.6870\n",
      "Local epoch 17, Loss: 18.6829\n",
      "Local epoch 18, Loss: 18.1062\n",
      "Local epoch 19, Loss: 18.9086\n",
      "Local epoch 20, Loss: 17.1468\n",
      "Local epoch 21, Loss: 17.5537\n",
      "Local epoch 22, Loss: 17.1051\n",
      "Local epoch 23, Loss: 17.4124\n",
      "Local epoch 24, Loss: 17.0366\n",
      "Local epoch 25, Loss: 16.7880\n",
      "Local epoch 26, Loss: 16.4624\n",
      "Local epoch 27, Loss: 16.3915\n",
      "Local epoch 28, Loss: 16.0424\n",
      "Local epoch 29, Loss: 16.6708\n",
      "Local epoch 30, Loss: 16.0003\n",
      "Local epoch 31, Loss: 15.8545\n",
      "Local epoch 32, Loss: 15.6039\n",
      "Local epoch 33, Loss: 15.3343\n",
      "Local epoch 34, Loss: 15.8458\n",
      "Local epoch 35, Loss: 15.3496\n",
      "Local epoch 36, Loss: 15.1120\n",
      "Local epoch 37, Loss: 14.7054\n",
      "Local epoch 38, Loss: 14.5171\n",
      "Local epoch 39, Loss: 14.8431\n",
      "Local epoch 40, Loss: 14.5872\n",
      "Entrenando cliente: golden\n"
     ]
    },
    {
     "name": "stderr",
     "output_type": "stream",
     "text": [
      "/tmp/ipykernel_14833/1941593120.py:10: DeprecationWarning: DataFrameGroupBy.apply operated on the grouping columns. This behavior is deprecated, and in a future version of pandas the grouping columns will be excluded from the operation. Either pass `include_groups=False` to exclude the groupings or explicitly select the grouping columns after groupby to silence this warning.\n",
      "  df_sampled = df.groupby('source', group_keys=False).apply(lambda x: x.sample(frac=0.4, random_state=42))\n"
     ]
    },
    {
     "name": "stdout",
     "output_type": "stream",
     "text": [
      "Local epoch 1, Loss: 815.1338\n",
      "Local epoch 2, Loss: 610.7247\n",
      "Local epoch 3, Loss: 363.9603\n",
      "Local epoch 4, Loss: 204.0036\n",
      "Local epoch 5, Loss: 146.6537\n",
      "Local epoch 6, Loss: 124.4435\n",
      "Local epoch 7, Loss: 100.8688\n",
      "Local epoch 8, Loss: 88.4160\n",
      "Local epoch 9, Loss: 84.2831\n",
      "Local epoch 10, Loss: 76.3224\n",
      "Local epoch 11, Loss: 72.6178\n",
      "Local epoch 12, Loss: 69.6981\n",
      "Local epoch 13, Loss: 65.2257\n",
      "Local epoch 14, Loss: 65.8713\n",
      "Local epoch 15, Loss: 61.2983\n",
      "Local epoch 16, Loss: 58.3656\n",
      "Local epoch 17, Loss: 56.1342\n",
      "Local epoch 18, Loss: 57.2658\n",
      "Local epoch 19, Loss: 53.8558\n",
      "Local epoch 20, Loss: 52.3233\n",
      "Local epoch 21, Loss: 49.8795\n",
      "Local epoch 22, Loss: 50.8535\n",
      "Local epoch 23, Loss: 47.1923\n",
      "Local epoch 24, Loss: 47.7408\n",
      "Local epoch 25, Loss: 45.4153\n",
      "Local epoch 26, Loss: 47.0465\n",
      "Local epoch 27, Loss: 45.4062\n",
      "Local epoch 28, Loss: 44.1960\n",
      "Local epoch 29, Loss: 43.8123\n",
      "Local epoch 30, Loss: 43.3265\n",
      "Local epoch 31, Loss: 41.9234\n",
      "Local epoch 32, Loss: 42.9316\n",
      "Local epoch 33, Loss: 39.3447\n",
      "Local epoch 34, Loss: 41.6472\n",
      "Local epoch 35, Loss: 40.0391\n",
      "Local epoch 36, Loss: 39.3128\n",
      "Local epoch 37, Loss: 39.3559\n",
      "Local epoch 38, Loss: 37.3725\n",
      "Local epoch 39, Loss: 37.6540\n",
      "Local epoch 40, Loss: 37.2987\n",
      "Ronda 2 completada. Se han promediado los pesos de 3 clientes.\n",
      "Test MSE después de ronda 2: 427.1340\n",
      "Nuevo mejor modelo federado guardado: best_federated_model.pth\n",
      "\n",
      "--- Ronda Federada 3 ---\n",
      "Entrenando cliente: cocoa\n"
     ]
    },
    {
     "name": "stderr",
     "output_type": "stream",
     "text": [
      "/tmp/ipykernel_14833/1941593120.py:10: DeprecationWarning: DataFrameGroupBy.apply operated on the grouping columns. This behavior is deprecated, and in a future version of pandas the grouping columns will be excluded from the operation. Either pass `include_groups=False` to exclude the groupings or explicitly select the grouping columns after groupby to silence this warning.\n",
      "  df_sampled = df.groupby('source', group_keys=False).apply(lambda x: x.sample(frac=0.4, random_state=42))\n"
     ]
    },
    {
     "name": "stdout",
     "output_type": "stream",
     "text": [
      "Local epoch 1, Loss: 37.0233\n",
      "Local epoch 2, Loss: 24.4855\n",
      "Local epoch 3, Loss: 22.3165\n",
      "Local epoch 4, Loss: 22.3353\n",
      "Local epoch 5, Loss: 21.4076\n",
      "Local epoch 6, Loss: 20.0770\n",
      "Local epoch 7, Loss: 20.3313\n",
      "Local epoch 8, Loss: 20.6015\n",
      "Local epoch 9, Loss: 20.4146\n",
      "Local epoch 10, Loss: 19.8049\n",
      "Local epoch 11, Loss: 19.6822\n",
      "Local epoch 12, Loss: 19.4016\n",
      "Local epoch 13, Loss: 19.0071\n",
      "Local epoch 14, Loss: 18.7937\n",
      "Local epoch 15, Loss: 18.4051\n",
      "Local epoch 16, Loss: 18.2998\n",
      "Local epoch 17, Loss: 18.8003\n",
      "Local epoch 18, Loss: 18.0051\n",
      "Local epoch 19, Loss: 18.2140\n",
      "Local epoch 20, Loss: 18.2129\n",
      "Local epoch 21, Loss: 17.8725\n",
      "Local epoch 22, Loss: 17.9883\n",
      "Local epoch 23, Loss: 17.5492\n",
      "Local epoch 24, Loss: 18.0633\n",
      "Local epoch 25, Loss: 17.8905\n",
      "Local epoch 26, Loss: 17.4248\n",
      "Local epoch 27, Loss: 16.9338\n",
      "Local epoch 28, Loss: 17.4008\n",
      "Local epoch 29, Loss: 17.0323\n",
      "Local epoch 30, Loss: 16.8778\n",
      "Local epoch 31, Loss: 17.2094\n",
      "Local epoch 32, Loss: 17.1651\n",
      "Local epoch 33, Loss: 16.2574\n",
      "Local epoch 34, Loss: 17.2105\n",
      "Local epoch 35, Loss: 16.9372\n",
      "Local epoch 36, Loss: 16.9247\n",
      "Local epoch 37, Loss: 16.5523\n",
      "Local epoch 38, Loss: 15.9487\n",
      "Local epoch 39, Loss: 16.1255\n",
      "Local epoch 40, Loss: 16.2405\n",
      "Entrenando cliente: eugene\n"
     ]
    },
    {
     "name": "stderr",
     "output_type": "stream",
     "text": [
      "/tmp/ipykernel_14833/1941593120.py:10: DeprecationWarning: DataFrameGroupBy.apply operated on the grouping columns. This behavior is deprecated, and in a future version of pandas the grouping columns will be excluded from the operation. Either pass `include_groups=False` to exclude the groupings or explicitly select the grouping columns after groupby to silence this warning.\n",
      "  df_sampled = df.groupby('source', group_keys=False).apply(lambda x: x.sample(frac=0.4, random_state=42))\n"
     ]
    },
    {
     "name": "stdout",
     "output_type": "stream",
     "text": [
      "Local epoch 1, Loss: 39.3785\n",
      "Local epoch 2, Loss: 21.6315\n",
      "Local epoch 3, Loss: 20.3126\n",
      "Local epoch 4, Loss: 18.3982\n",
      "Local epoch 5, Loss: 17.4500\n",
      "Local epoch 6, Loss: 17.4162\n",
      "Local epoch 7, Loss: 17.2009\n",
      "Local epoch 8, Loss: 16.2530\n",
      "Local epoch 9, Loss: 16.5063\n",
      "Local epoch 10, Loss: 15.6330\n",
      "Local epoch 11, Loss: 15.8756\n",
      "Local epoch 12, Loss: 15.5658\n",
      "Local epoch 13, Loss: 16.0204\n",
      "Local epoch 14, Loss: 15.2405\n",
      "Local epoch 15, Loss: 15.4141\n",
      "Local epoch 16, Loss: 15.4163\n",
      "Local epoch 17, Loss: 14.3232\n",
      "Local epoch 18, Loss: 14.6642\n",
      "Local epoch 19, Loss: 13.8345\n",
      "Local epoch 20, Loss: 14.4511\n",
      "Local epoch 21, Loss: 13.9492\n",
      "Local epoch 22, Loss: 13.9569\n",
      "Local epoch 23, Loss: 14.0663\n",
      "Local epoch 24, Loss: 13.5836\n",
      "Local epoch 25, Loss: 14.0501\n",
      "Local epoch 26, Loss: 13.3752\n",
      "Local epoch 27, Loss: 13.7880\n",
      "Local epoch 28, Loss: 13.6094\n",
      "Local epoch 29, Loss: 13.2770\n",
      "Local epoch 30, Loss: 13.2489\n",
      "Local epoch 31, Loss: 12.8558\n",
      "Local epoch 32, Loss: 13.0554\n",
      "Local epoch 33, Loss: 12.9776\n",
      "Local epoch 34, Loss: 12.6404\n",
      "Local epoch 35, Loss: 13.1789\n",
      "Local epoch 36, Loss: 12.2871\n",
      "Local epoch 37, Loss: 12.9935\n",
      "Local epoch 38, Loss: 12.1784\n",
      "Local epoch 39, Loss: 12.1155\n",
      "Local epoch 40, Loss: 12.2833\n",
      "Entrenando cliente: golden\n"
     ]
    },
    {
     "name": "stderr",
     "output_type": "stream",
     "text": [
      "/tmp/ipykernel_14833/1941593120.py:10: DeprecationWarning: DataFrameGroupBy.apply operated on the grouping columns. This behavior is deprecated, and in a future version of pandas the grouping columns will be excluded from the operation. Either pass `include_groups=False` to exclude the groupings or explicitly select the grouping columns after groupby to silence this warning.\n",
      "  df_sampled = df.groupby('source', group_keys=False).apply(lambda x: x.sample(frac=0.4, random_state=42))\n"
     ]
    },
    {
     "name": "stdout",
     "output_type": "stream",
     "text": [
      "Local epoch 1, Loss: 730.1372\n",
      "Local epoch 2, Loss: 415.8934\n",
      "Local epoch 3, Loss: 201.5187\n",
      "Local epoch 4, Loss: 132.2953\n",
      "Local epoch 5, Loss: 108.5519\n",
      "Local epoch 6, Loss: 91.6573\n",
      "Local epoch 7, Loss: 78.3261\n",
      "Local epoch 8, Loss: 71.7754\n",
      "Local epoch 9, Loss: 65.6821\n",
      "Local epoch 10, Loss: 61.5648\n",
      "Local epoch 11, Loss: 57.6586\n",
      "Local epoch 12, Loss: 55.3707\n",
      "Local epoch 13, Loss: 51.7558\n",
      "Local epoch 14, Loss: 50.3246\n",
      "Local epoch 15, Loss: 47.6013\n",
      "Local epoch 16, Loss: 45.9619\n",
      "Local epoch 17, Loss: 44.1455\n",
      "Local epoch 18, Loss: 42.0436\n",
      "Local epoch 19, Loss: 42.2624\n",
      "Local epoch 20, Loss: 41.6015\n",
      "Local epoch 21, Loss: 41.5492\n",
      "Local epoch 22, Loss: 39.6703\n",
      "Local epoch 23, Loss: 37.8594\n",
      "Local epoch 24, Loss: 37.3728\n",
      "Local epoch 25, Loss: 36.9870\n",
      "Local epoch 26, Loss: 35.8279\n",
      "Local epoch 27, Loss: 37.9936\n",
      "Local epoch 28, Loss: 34.1652\n",
      "Local epoch 29, Loss: 35.2244\n",
      "Local epoch 30, Loss: 34.2646\n",
      "Local epoch 31, Loss: 34.7163\n",
      "Local epoch 32, Loss: 32.8579\n",
      "Local epoch 33, Loss: 31.4942\n",
      "Local epoch 34, Loss: 32.8573\n",
      "Local epoch 35, Loss: 31.7858\n",
      "Local epoch 36, Loss: 32.4518\n",
      "Local epoch 37, Loss: 31.1242\n",
      "Local epoch 38, Loss: 30.8270\n",
      "Local epoch 39, Loss: 30.1345\n",
      "Local epoch 40, Loss: 30.7934\n",
      "Ronda 3 completada. Se han promediado los pesos de 3 clientes.\n",
      "Test MSE después de ronda 3: 326.0812\n",
      "Nuevo mejor modelo federado guardado: best_federated_model.pth\n",
      "\n",
      "--- Ronda Federada 4 ---\n",
      "Entrenando cliente: cocoa\n"
     ]
    },
    {
     "name": "stderr",
     "output_type": "stream",
     "text": [
      "/tmp/ipykernel_14833/1941593120.py:10: DeprecationWarning: DataFrameGroupBy.apply operated on the grouping columns. This behavior is deprecated, and in a future version of pandas the grouping columns will be excluded from the operation. Either pass `include_groups=False` to exclude the groupings or explicitly select the grouping columns after groupby to silence this warning.\n",
      "  df_sampled = df.groupby('source', group_keys=False).apply(lambda x: x.sample(frac=0.4, random_state=42))\n"
     ]
    },
    {
     "name": "stdout",
     "output_type": "stream",
     "text": [
      "Local epoch 1, Loss: 30.8589\n",
      "Local epoch 2, Loss: 20.2599\n",
      "Local epoch 3, Loss: 19.1061\n",
      "Local epoch 4, Loss: 18.3392\n",
      "Local epoch 5, Loss: 17.3755\n",
      "Local epoch 6, Loss: 17.4784\n",
      "Local epoch 7, Loss: 17.1187\n",
      "Local epoch 8, Loss: 17.0781\n",
      "Local epoch 9, Loss: 17.2068\n",
      "Local epoch 10, Loss: 16.7464\n",
      "Local epoch 11, Loss: 16.6430\n",
      "Local epoch 12, Loss: 16.1697\n",
      "Local epoch 13, Loss: 16.0334\n",
      "Local epoch 14, Loss: 16.5035\n",
      "Local epoch 15, Loss: 16.0270\n",
      "Local epoch 16, Loss: 16.5392\n",
      "Local epoch 17, Loss: 16.1142\n",
      "Local epoch 18, Loss: 15.8038\n",
      "Local epoch 19, Loss: 15.6065\n",
      "Local epoch 20, Loss: 15.8039\n",
      "Local epoch 21, Loss: 15.5027\n",
      "Local epoch 22, Loss: 15.1483\n",
      "Local epoch 23, Loss: 14.8652\n",
      "Local epoch 24, Loss: 15.0741\n",
      "Local epoch 25, Loss: 14.9492\n",
      "Local epoch 26, Loss: 14.6623\n",
      "Local epoch 27, Loss: 15.1423\n",
      "Local epoch 28, Loss: 15.5729\n",
      "Local epoch 29, Loss: 14.8400\n",
      "Local epoch 30, Loss: 15.0479\n",
      "Local epoch 31, Loss: 14.3868\n",
      "Local epoch 32, Loss: 14.8896\n",
      "Local epoch 33, Loss: 14.5036\n",
      "Local epoch 34, Loss: 14.0758\n",
      "Local epoch 35, Loss: 14.3267\n",
      "Local epoch 36, Loss: 14.2315\n",
      "Local epoch 37, Loss: 14.5957\n",
      "Local epoch 38, Loss: 14.3529\n",
      "Local epoch 39, Loss: 14.4405\n",
      "Local epoch 40, Loss: 14.2796\n",
      "Entrenando cliente: eugene\n"
     ]
    },
    {
     "name": "stderr",
     "output_type": "stream",
     "text": [
      "/tmp/ipykernel_14833/1941593120.py:10: DeprecationWarning: DataFrameGroupBy.apply operated on the grouping columns. This behavior is deprecated, and in a future version of pandas the grouping columns will be excluded from the operation. Either pass `include_groups=False` to exclude the groupings or explicitly select the grouping columns after groupby to silence this warning.\n",
      "  df_sampled = df.groupby('source', group_keys=False).apply(lambda x: x.sample(frac=0.4, random_state=42))\n"
     ]
    },
    {
     "name": "stdout",
     "output_type": "stream",
     "text": [
      "Local epoch 1, Loss: 31.7326\n",
      "Local epoch 2, Loss: 17.9223\n",
      "Local epoch 3, Loss: 16.0686\n",
      "Local epoch 4, Loss: 15.2344\n",
      "Local epoch 5, Loss: 14.4972\n",
      "Local epoch 6, Loss: 14.2212\n",
      "Local epoch 7, Loss: 13.9686\n",
      "Local epoch 8, Loss: 13.6471\n",
      "Local epoch 9, Loss: 13.6313\n",
      "Local epoch 10, Loss: 13.0215\n",
      "Local epoch 11, Loss: 12.8088\n",
      "Local epoch 12, Loss: 12.9191\n",
      "Local epoch 13, Loss: 12.7239\n",
      "Local epoch 14, Loss: 12.7828\n",
      "Local epoch 15, Loss: 12.5984\n",
      "Local epoch 16, Loss: 12.4661\n",
      "Local epoch 17, Loss: 12.5684\n",
      "Local epoch 18, Loss: 12.1473\n",
      "Local epoch 19, Loss: 12.3160\n",
      "Local epoch 20, Loss: 12.0841\n",
      "Local epoch 21, Loss: 11.9655\n",
      "Local epoch 22, Loss: 11.9459\n",
      "Local epoch 23, Loss: 11.7768\n",
      "Local epoch 24, Loss: 12.2079\n",
      "Local epoch 25, Loss: 11.7313\n",
      "Local epoch 26, Loss: 11.5355\n",
      "Local epoch 27, Loss: 11.5643\n",
      "Local epoch 28, Loss: 11.8572\n",
      "Local epoch 29, Loss: 11.1245\n",
      "Local epoch 30, Loss: 11.2266\n",
      "Local epoch 31, Loss: 11.3895\n",
      "Local epoch 32, Loss: 11.1598\n",
      "Local epoch 33, Loss: 11.1038\n",
      "Local epoch 34, Loss: 11.2314\n",
      "Local epoch 35, Loss: 10.8191\n",
      "Local epoch 36, Loss: 11.0809\n",
      "Local epoch 37, Loss: 11.1891\n",
      "Local epoch 38, Loss: 10.9769\n",
      "Local epoch 39, Loss: 11.1659\n",
      "Local epoch 40, Loss: 11.0793\n",
      "Entrenando cliente: golden\n"
     ]
    },
    {
     "name": "stderr",
     "output_type": "stream",
     "text": [
      "/tmp/ipykernel_14833/1941593120.py:10: DeprecationWarning: DataFrameGroupBy.apply operated on the grouping columns. This behavior is deprecated, and in a future version of pandas the grouping columns will be excluded from the operation. Either pass `include_groups=False` to exclude the groupings or explicitly select the grouping columns after groupby to silence this warning.\n",
      "  df_sampled = df.groupby('source', group_keys=False).apply(lambda x: x.sample(frac=0.4, random_state=42))\n"
     ]
    },
    {
     "name": "stdout",
     "output_type": "stream",
     "text": [
      "Local epoch 1, Loss: 651.8234\n",
      "Local epoch 2, Loss: 290.1309\n",
      "Local epoch 3, Loss: 151.8550\n",
      "Local epoch 4, Loss: 110.6561\n",
      "Local epoch 5, Loss: 86.0405\n",
      "Local epoch 6, Loss: 74.8601\n",
      "Local epoch 7, Loss: 64.4762\n",
      "Local epoch 8, Loss: 56.4519\n",
      "Local epoch 9, Loss: 54.3200\n",
      "Local epoch 10, Loss: 51.4123\n",
      "Local epoch 11, Loss: 47.5583\n",
      "Local epoch 12, Loss: 44.8841\n",
      "Local epoch 13, Loss: 41.4875\n",
      "Local epoch 14, Loss: 41.6280\n",
      "Local epoch 15, Loss: 39.5926\n",
      "Local epoch 16, Loss: 41.7763\n",
      "Local epoch 17, Loss: 35.4557\n",
      "Local epoch 18, Loss: 36.9804\n",
      "Local epoch 19, Loss: 35.2282\n",
      "Local epoch 20, Loss: 36.3861\n",
      "Local epoch 21, Loss: 36.1141\n",
      "Local epoch 22, Loss: 33.8801\n",
      "Local epoch 23, Loss: 33.8891\n",
      "Local epoch 24, Loss: 33.6683\n",
      "Local epoch 25, Loss: 32.4274\n",
      "Local epoch 26, Loss: 30.5074\n",
      "Local epoch 27, Loss: 32.1680\n",
      "Local epoch 28, Loss: 30.6915\n",
      "Local epoch 29, Loss: 30.6006\n",
      "Local epoch 30, Loss: 31.6415\n",
      "Local epoch 31, Loss: 29.4439\n",
      "Local epoch 32, Loss: 29.5010\n",
      "Local epoch 33, Loss: 27.3741\n",
      "Local epoch 34, Loss: 26.7342\n",
      "Local epoch 35, Loss: 26.7739\n",
      "Local epoch 36, Loss: 25.9558\n",
      "Local epoch 37, Loss: 26.2985\n",
      "Local epoch 38, Loss: 26.7332\n",
      "Local epoch 39, Loss: 25.5508\n",
      "Local epoch 40, Loss: 25.9094\n",
      "Ronda 4 completada. Se han promediado los pesos de 3 clientes.\n",
      "Test MSE después de ronda 4: 257.6902\n",
      "Nuevo mejor modelo federado guardado: best_federated_model.pth\n",
      "\n",
      "--- Ronda Federada 5 ---\n",
      "Entrenando cliente: cocoa\n"
     ]
    },
    {
     "name": "stderr",
     "output_type": "stream",
     "text": [
      "/tmp/ipykernel_14833/1941593120.py:10: DeprecationWarning: DataFrameGroupBy.apply operated on the grouping columns. This behavior is deprecated, and in a future version of pandas the grouping columns will be excluded from the operation. Either pass `include_groups=False` to exclude the groupings or explicitly select the grouping columns after groupby to silence this warning.\n",
      "  df_sampled = df.groupby('source', group_keys=False).apply(lambda x: x.sample(frac=0.4, random_state=42))\n"
     ]
    },
    {
     "name": "stdout",
     "output_type": "stream",
     "text": [
      "Local epoch 1, Loss: 26.1277\n",
      "Local epoch 2, Loss: 17.5420\n",
      "Local epoch 3, Loss: 16.5029\n",
      "Local epoch 4, Loss: 16.1926\n",
      "Local epoch 5, Loss: 15.6263\n",
      "Local epoch 6, Loss: 15.4453\n",
      "Local epoch 7, Loss: 15.4518\n",
      "Local epoch 8, Loss: 15.0898\n",
      "Local epoch 9, Loss: 15.2324\n",
      "Local epoch 10, Loss: 14.6187\n",
      "Local epoch 11, Loss: 14.8609\n",
      "Local epoch 12, Loss: 14.0495\n",
      "Local epoch 13, Loss: 14.3590\n",
      "Local epoch 14, Loss: 14.6987\n",
      "Local epoch 15, Loss: 13.9624\n",
      "Local epoch 16, Loss: 13.9420\n",
      "Local epoch 17, Loss: 14.0706\n",
      "Local epoch 18, Loss: 13.7488\n",
      "Local epoch 19, Loss: 13.7189\n",
      "Local epoch 20, Loss: 13.7259\n",
      "Local epoch 21, Loss: 14.0013\n",
      "Local epoch 22, Loss: 13.3925\n",
      "Local epoch 23, Loss: 13.8905\n",
      "Local epoch 24, Loss: 13.8582\n",
      "Local epoch 25, Loss: 13.3734\n",
      "Local epoch 26, Loss: 13.4594\n",
      "Local epoch 27, Loss: 13.2277\n",
      "Local epoch 28, Loss: 13.1922\n",
      "Local epoch 29, Loss: 13.0989\n",
      "Local epoch 30, Loss: 13.2778\n",
      "Local epoch 31, Loss: 13.4027\n",
      "Local epoch 32, Loss: 13.3319\n",
      "Local epoch 33, Loss: 13.3380\n",
      "Local epoch 34, Loss: 12.9776\n",
      "Local epoch 35, Loss: 12.8495\n",
      "Local epoch 36, Loss: 12.8637\n",
      "Local epoch 37, Loss: 13.4298\n",
      "Local epoch 38, Loss: 13.0051\n",
      "Local epoch 39, Loss: 12.7074\n",
      "Local epoch 40, Loss: 12.6899\n",
      "Entrenando cliente: eugene\n"
     ]
    },
    {
     "name": "stderr",
     "output_type": "stream",
     "text": [
      "/tmp/ipykernel_14833/1941593120.py:10: DeprecationWarning: DataFrameGroupBy.apply operated on the grouping columns. This behavior is deprecated, and in a future version of pandas the grouping columns will be excluded from the operation. Either pass `include_groups=False` to exclude the groupings or explicitly select the grouping columns after groupby to silence this warning.\n",
      "  df_sampled = df.groupby('source', group_keys=False).apply(lambda x: x.sample(frac=0.4, random_state=42))\n"
     ]
    },
    {
     "name": "stdout",
     "output_type": "stream",
     "text": [
      "Local epoch 1, Loss: 27.4012\n",
      "Local epoch 2, Loss: 15.1279\n",
      "Local epoch 3, Loss: 13.5798\n",
      "Local epoch 4, Loss: 13.2326\n",
      "Local epoch 5, Loss: 12.9023\n",
      "Local epoch 6, Loss: 12.5415\n",
      "Local epoch 7, Loss: 12.6019\n",
      "Local epoch 8, Loss: 11.5672\n",
      "Local epoch 9, Loss: 11.8918\n",
      "Local epoch 10, Loss: 11.5354\n",
      "Local epoch 11, Loss: 11.4580\n",
      "Local epoch 12, Loss: 10.9940\n",
      "Local epoch 13, Loss: 10.9776\n",
      "Local epoch 14, Loss: 10.9533\n",
      "Local epoch 15, Loss: 11.4293\n",
      "Local epoch 16, Loss: 10.8834\n",
      "Local epoch 17, Loss: 10.8717\n",
      "Local epoch 18, Loss: 10.5718\n",
      "Local epoch 19, Loss: 10.6789\n",
      "Local epoch 20, Loss: 10.5695\n",
      "Local epoch 21, Loss: 10.6461\n",
      "Local epoch 22, Loss: 10.2490\n",
      "Local epoch 23, Loss: 10.6965\n",
      "Local epoch 24, Loss: 10.7275\n",
      "Local epoch 25, Loss: 10.0861\n",
      "Local epoch 26, Loss: 10.4721\n",
      "Local epoch 27, Loss: 10.6615\n",
      "Local epoch 28, Loss: 10.1422\n",
      "Local epoch 29, Loss: 10.0666\n",
      "Local epoch 30, Loss: 10.3656\n",
      "Local epoch 31, Loss: 10.6768\n",
      "Local epoch 32, Loss: 10.1087\n",
      "Local epoch 33, Loss: 9.8026\n",
      "Local epoch 34, Loss: 9.8096\n",
      "Local epoch 35, Loss: 9.8086\n",
      "Local epoch 36, Loss: 9.6452\n",
      "Local epoch 37, Loss: 9.9528\n",
      "Local epoch 38, Loss: 9.8794\n",
      "Local epoch 39, Loss: 9.9501\n",
      "Local epoch 40, Loss: 9.7540\n",
      "Entrenando cliente: golden\n"
     ]
    },
    {
     "name": "stderr",
     "output_type": "stream",
     "text": [
      "/tmp/ipykernel_14833/1941593120.py:10: DeprecationWarning: DataFrameGroupBy.apply operated on the grouping columns. This behavior is deprecated, and in a future version of pandas the grouping columns will be excluded from the operation. Either pass `include_groups=False` to exclude the groupings or explicitly select the grouping columns after groupby to silence this warning.\n",
      "  df_sampled = df.groupby('source', group_keys=False).apply(lambda x: x.sample(frac=0.4, random_state=42))\n"
     ]
    },
    {
     "name": "stdout",
     "output_type": "stream",
     "text": [
      "Local epoch 1, Loss: 604.5754\n",
      "Local epoch 2, Loss: 237.0965\n",
      "Local epoch 3, Loss: 130.2995\n",
      "Local epoch 4, Loss: 92.8389\n",
      "Local epoch 5, Loss: 73.3830\n",
      "Local epoch 6, Loss: 62.2933\n",
      "Local epoch 7, Loss: 55.3811\n",
      "Local epoch 8, Loss: 48.7650\n",
      "Local epoch 9, Loss: 47.6718\n",
      "Local epoch 10, Loss: 42.9843\n",
      "Local epoch 11, Loss: 41.5023\n",
      "Local epoch 12, Loss: 37.6390\n",
      "Local epoch 13, Loss: 36.2130\n",
      "Local epoch 14, Loss: 36.2699\n",
      "Local epoch 15, Loss: 34.1002\n",
      "Local epoch 16, Loss: 34.3764\n",
      "Local epoch 17, Loss: 32.8526\n",
      "Local epoch 18, Loss: 30.9921\n",
      "Local epoch 19, Loss: 30.5150\n",
      "Local epoch 20, Loss: 29.5565\n",
      "Local epoch 21, Loss: 29.1173\n",
      "Local epoch 22, Loss: 28.8212\n",
      "Local epoch 23, Loss: 27.7785\n",
      "Local epoch 24, Loss: 28.5375\n",
      "Local epoch 25, Loss: 29.6490\n",
      "Local epoch 26, Loss: 26.7179\n",
      "Local epoch 27, Loss: 27.9653\n",
      "Local epoch 28, Loss: 25.9787\n",
      "Local epoch 29, Loss: 25.6876\n",
      "Local epoch 30, Loss: 26.2219\n",
      "Local epoch 31, Loss: 25.3243\n",
      "Local epoch 32, Loss: 25.3204\n",
      "Local epoch 33, Loss: 25.5506\n",
      "Local epoch 34, Loss: 25.1319\n",
      "Local epoch 35, Loss: 25.7309\n",
      "Local epoch 36, Loss: 24.8852\n",
      "Local epoch 37, Loss: 23.8143\n",
      "Local epoch 38, Loss: 22.6180\n",
      "Local epoch 39, Loss: 22.0369\n",
      "Local epoch 40, Loss: 22.8016\n",
      "Ronda 5 completada. Se han promediado los pesos de 3 clientes.\n",
      "Test MSE después de ronda 5: 232.6465\n",
      "Nuevo mejor modelo federado guardado: best_federated_model.pth\n"
     ]
    }
   ],
   "source": [
    "criterion = nn.MSELoss()\n",
    "best_test_loss = np.inf\n",
    "best_federated_model_path = \"best_federated_model.pth\"\n",
    "\n",
    "print(\"=== Iniciando entrenamiento federado ===\")\n",
    "for round in range(1, federated_rounds+1):\n",
    "    print(f\"\\n--- Ronda Federada {round} ---\")\n",
    "    local_state_dicts = []\n",
    "    data_sizes = []\n",
    "    for client_name, files in clients.items():\n",
    "        print(f\"Entrenando cliente: {client_name}\")\n",
    "        client_df = load_and_preprocess(files, all_sources)\n",
    "        X_local, y_local, _ = prepare_data(client_df, scaler)\n",
    "        local_dataset = TensorDataset(X_local, y_local)\n",
    "        local_loader = DataLoader(local_dataset, batch_size=batch_size, shuffle=True)\n",
    "        \n",
    "        local_model = copy.deepcopy(global_model)\n",
    "        optimizer_local = optim.Adam(local_model.parameters(), lr=lr, weight_decay=weight_decay)\n",
    "        \n",
    "        local_state, n_samples = local_train(local_model, local_loader, criterion, optimizer_local, local_epochs)\n",
    "        local_state_dicts.append(local_state)\n",
    "        data_sizes.append(n_samples)\n",
    "    \n",
    "    global_state = fed_avg(local_state_dicts, data_sizes)\n",
    "    global_model.load_state_dict(global_state)\n",
    "    print(f\"Ronda {round} completada. Se han promediado los pesos de {len(clients)} clientes.\")\n",
    "    \n",
    "    X_test_tensor, y_test_tensor, _ = prepare_data(test_df, scaler)\n",
    "    global_model.eval()\n",
    "    with torch.no_grad():\n",
    "        y_pred = global_model(X_test_tensor).cpu().numpy()\n",
    "        y_test_np = y_test_tensor.cpu().numpy()\n",
    "        test_loss = mean_squared_error(y_test_np, y_pred)\n",
    "        print(f\"Test MSE después de ronda {round}: {test_loss:.4f}\")\n",
    "    \n",
    "    if test_loss < best_test_loss:\n",
    "        best_test_loss = test_loss\n",
    "        torch.save(global_model.state_dict(), best_federated_model_path)\n",
    "        print(f\"Nuevo mejor modelo federado guardado: {best_federated_model_path}\")\n",
    "\n"
   ]
  },
  {
   "cell_type": "markdown",
   "id": "1907c517cee52bd0",
   "metadata": {},
   "source": [
    "## EVALUACIÓN FINAL DEL MODELO GLOBAL ACTUALIZADO FEDERADAMENTE"
   ]
  },
  {
   "cell_type": "code",
   "execution_count": 21,
   "id": "c0f45ae52658ad0b",
   "metadata": {
    "ExecuteTime": {
     "end_time": "2025-03-28T21:25:33.176113Z",
     "start_time": "2025-03-28T21:25:32.070236Z"
    }
   },
   "outputs": [
    {
     "name": "stdout",
     "output_type": "stream",
     "text": [
      "\n",
      "=== Evaluación Final del Mejor Modelo Federado ===\n",
      "Test MSE: 232.6465\n",
      "Test MAE: 7.7947\n",
      "Test R2: 0.8393\n"
     ]
    },
    {
     "data": {
      "image/png": "[encoded data removed]",
      "text/plain": [
       "<Figure size 1200x400 with 3 Axes>"
      ]
     },
     "metadata": {},
     "output_type": "display_data"
    }
   ],
   "source": [
    "global_model.load_state_dict(torch.load(best_federated_model_path))\n",
    "global_model.eval()\n",
    "with torch.no_grad():\n",
    "    y_pred = global_model(X_test_tensor).cpu().numpy()\n",
    "    y_test_np = y_test_tensor.cpu().numpy()\n",
    "    mse = mean_squared_error(y_test_np, y_pred)\n",
    "    mae = mean_absolute_error(y_test_np, y_pred)\n",
    "    r2 = r2_score(y_test_np, y_pred)\n",
    "    print(\"\\n=== Evaluación Final del Mejor Modelo Federado ===\")\n",
    "    print(f\"Test MSE: {mse:.4f}\")\n",
    "    print(f\"Test MAE: {mae:.4f}\")\n",
    "    print(f\"Test R2: {r2:.4f}\")\n",
    "\n",
    "plt.figure(figsize=(12,4))\n",
    "plt.subplot(131)\n",
    "plt.title('Predicciones vs Reales')\n",
    "plt.scatter(y_test_np, y_pred, alpha=0.3)\n",
    "plt.plot([y_test_np.min(), y_test_np.max()], [y_test_np.min(), y_test_np.max()], 'r--')\n",
    "plt.xlabel('Valores Reales')\n",
    "plt.ylabel('Predicciones')\n",
    "plt.grid(True)\n",
    "\n",
    "plt.subplot(132)\n",
    "residuals = y_test_np - y_pred\n",
    "plt.hist(residuals, bins=50, density=True, alpha=0.6)\n",
    "plt.title('Distribución de Residuos')\n",
    "plt.xlabel('Residuo')\n",
    "plt.grid(True)\n",
    "\n",
    "plt.subplot(133)\n",
    "plt.plot(y_pred, label=\"Predicciones\")\n",
    "plt.plot(y_test_np, label=\"Valores Reales\", alpha=0.7)\n",
    "plt.title('Predicciones vs Reales')\n",
    "plt.xlabel('Muestras')\n",
    "plt.legend() \n",
    "plt.grid(True)\n",
    "plt.tight_layout()\n",
    "plt.show()"
   ]
  }
 ],
 "metadata": {
  "kernelspec": {
   "display_name": "base",
   "language": "python",
   "name": "python3"
  },
  "language_info": {
   "codemirror_mode": {
    "name": "ipython",
    "version": 3
   },
   "file_extension": ".py",
   "mimetype": "text/x-python",
   "name": "python",
   "nbconvert_exporter": "python",
   "pygments_lexer": "ipython3",
   "version": "3.12.9"
  }
 },
 "nbformat": 4,
 "nbformat_minor": 5
}
