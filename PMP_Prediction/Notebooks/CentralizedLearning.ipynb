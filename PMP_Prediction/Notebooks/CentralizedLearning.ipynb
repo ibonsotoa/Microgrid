{
 "cells": [
  {
   "cell_type": "markdown",
   "id": "465a7c5586d57cb1",
   "metadata": {},
   "source": [
    "# MODELO CENTRALIZADO CON TODOS LOS DATOS"
   ]
  },
  {
   "cell_type": "markdown",
   "id": "ef6ca7ff36509204",
   "metadata": {},
   "source": [
    "## IMPORTAR LIBRERÍAS"
   ]
  },
  {
   "cell_type": "code",
   "execution_count": 2,
   "id": "883e041ab21b78bb",
   "metadata": {
    "ExecuteTime": {
     "end_time": "2025-03-26T18:34:13.582629Z",
     "start_time": "2025-03-26T18:34:09.848809Z"
    }
   },
   "outputs": [],
   "source": [
    "import os\n",
    "import numpy as np\n",
    "import pandas as pd\n",
    "import torch\n",
    "import torch.nn as nn\n",
    "import torch.optim as optim\n",
    "from torch.utils.data import TensorDataset, DataLoader\n",
    "from sklearn.preprocessing import StandardScaler\n",
    "from sklearn.metrics import mean_squared_error, mean_absolute_error, r2_score\n",
    "import matplotlib.pyplot as plt\n",
    "import random"
   ]
  },
  {
   "cell_type": "markdown",
   "id": "465c27fa4a5a121b",
   "metadata": {},
   "source": [
    "## SEMILLA POR REPRODUCIBILIDAD"
   ]
  },
  {
   "cell_type": "code",
   "execution_count": 3,
   "id": "3e058df2748d696e",
   "metadata": {},
   "outputs": [],
   "source": [
    "seed = 42\n",
    "torch.manual_seed(seed)\n",
    "np.random.seed(seed)\n",
    "random.seed(seed)"
   ]
  },
  {
   "cell_type": "markdown",
   "id": "420c56467e0c797",
   "metadata": {},
   "source": [
    "## PREPROCESO Y DIVISIÓN DE LOS DATOS"
   ]
  },
  {
   "cell_type": "code",
   "execution_count": 4,
   "id": "d6b2980936d7841",
   "metadata": {
    "ExecuteTime": {
     "end_time": "2025-03-26T18:34:16.068175Z",
     "start_time": "2025-03-26T18:34:13.588698Z"
    }
   },
   "outputs": [
    {
     "name": "stderr",
     "output_type": "stream",
     "text": [
      "/tmp/ipykernel_17204/3916369317.py:11: DeprecationWarning: DataFrameGroupBy.apply operated on the grouping columns. This behavior is deprecated, and in a future version of pandas the grouping columns will be excluded from the operation. Either pass `include_groups=False` to exclude the groupings or explicitly select the grouping columns after groupby to silence this warning.\n",
      "  df_sampled = df.groupby('source', group_keys=False).apply(lambda x: x.sample(frac=1, random_state=42))\n",
      "/tmp/ipykernel_17204/3916369317.py:11: DeprecationWarning: DataFrameGroupBy.apply operated on the grouping columns. This behavior is deprecated, and in a future version of pandas the grouping columns will be excluded from the operation. Either pass `include_groups=False` to exclude the groupings or explicitly select the grouping columns after groupby to silence this warning.\n",
      "  df_sampled = df.groupby('source', group_keys=False).apply(lambda x: x.sample(frac=1, random_state=42))\n",
      "/tmp/ipykernel_17204/3916369317.py:11: DeprecationWarning: DataFrameGroupBy.apply operated on the grouping columns. This behavior is deprecated, and in a future version of pandas the grouping columns will be excluded from the operation. Either pass `include_groups=False` to exclude the groupings or explicitly select the grouping columns after groupby to silence this warning.\n",
      "  df_sampled = df.groupby('source', group_keys=False).apply(lambda x: x.sample(frac=1, random_state=42))\n",
      "/tmp/ipykernel_17204/3916369317.py:11: DeprecationWarning: DataFrameGroupBy.apply operated on the grouping columns. This behavior is deprecated, and in a future version of pandas the grouping columns will be excluded from the operation. Either pass `include_groups=False` to exclude the groupings or explicitly select the grouping columns after groupby to silence this warning.\n",
      "  df_sampled = df.groupby('source', group_keys=False).apply(lambda x: x.sample(frac=1, random_state=42))\n",
      "/tmp/ipykernel_17204/3916369317.py:11: DeprecationWarning: DataFrameGroupBy.apply operated on the grouping columns. This behavior is deprecated, and in a future version of pandas the grouping columns will be excluded from the operation. Either pass `include_groups=False` to exclude the groupings or explicitly select the grouping columns after groupby to silence this warning.\n",
      "  df_sampled = df.groupby('source', group_keys=False).apply(lambda x: x.sample(frac=1, random_state=42))\n",
      "/tmp/ipykernel_17204/3916369317.py:11: DeprecationWarning: DataFrameGroupBy.apply operated on the grouping columns. This behavior is deprecated, and in a future version of pandas the grouping columns will be excluded from the operation. Either pass `include_groups=False` to exclude the groupings or explicitly select the grouping columns after groupby to silence this warning.\n",
      "  df_sampled = df.groupby('source', group_keys=False).apply(lambda x: x.sample(frac=1, random_state=42))\n"
     ]
    }
   ],
   "source": [
    "folder_path = r\"/home/alkain/Escritorio/Github_Repositorios/Microgrid/TrainTestSplit\"\n",
    "device = torch.device(\"cuda\" if torch.cuda.is_available() else \"cpu\")\n",
    "\n",
    "def load_and_preprocess(files):\n",
    "    df_list = []\n",
    "    for file in files:\n",
    "        file_path = os.path.join(folder_path, file)\n",
    "        df = pd.read_csv(file_path, parse_dates=[\"Time Stamp (local standard time) yyyy-mm-ddThh:mm:ss\"])\n",
    "        df = df.drop(columns='Time Stamp (local standard time) yyyy-mm-ddThh:mm:ss')\n",
    "        \n",
    "        df_sampled = df.groupby('source', group_keys=False).apply(lambda x: x.sample(frac=1, random_state=42))\n",
    "        df_list.append(df_sampled)\n",
    "    \n",
    "    full_df = pd.concat(df_list, ignore_index=True)\n",
    "    \n",
    "    full_df = pd.get_dummies(full_df, columns=['source'], prefix='src')\n",
    "    \n",
    "    return full_df\n",
    "\n",
    "train_files = [f for f in os.listdir(folder_path) if f.endswith('.csv') and \"train\" in f]\n",
    "test_files = [f for f in os.listdir(folder_path) if f.endswith('.csv') and \"test\" in f]\n",
    "\n",
    "train_df = load_and_preprocess(train_files)\n",
    "test_df = load_and_preprocess(test_files)\n",
    "\n",
    "train_cols = train_df.columns\n",
    "test_df = test_df.reindex(columns=train_cols).fillna(0)\n",
    "\n",
    "X_train = train_df.drop(columns=['Pmp (W)']).values.astype(np.float32)\n",
    "X_test = test_df.drop(columns=['Pmp (W)']).values.astype(np.float32)\n",
    "y_train = train_df['Pmp (W)'].values.astype(np.float32)\n",
    "y_test = test_df['Pmp (W)'].values.astype(np.float32)\n",
    "\n",
    "scaler = StandardScaler()\n",
    "X_train = scaler.fit_transform(X_train)\n",
    "X_test = scaler.transform(X_test)\n",
    "\n",
    "X_train_tensor = torch.tensor(X_train).to(device)\n",
    "y_train_tensor = torch.tensor(y_train).unsqueeze(1).to(device)\n",
    "X_test_tensor = torch.tensor(X_test).to(device)\n",
    "y_test_tensor = torch.tensor(y_test).unsqueeze(1).to(device)"
   ]
  },
  {
   "cell_type": "markdown",
   "id": "c072b8589d338309",
   "metadata": {},
   "source": [
    "## DEFINICIÓN DEL MODELO Y SUS CAPAS"
   ]
  },
  {
   "cell_type": "code",
   "execution_count": 5,
   "id": "252ee314677736de",
   "metadata": {
    "ExecuteTime": {
     "end_time": "2025-03-26T18:34:16.207836Z",
     "start_time": "2025-03-26T18:34:16.201837Z"
    }
   },
   "outputs": [],
   "source": [
    "class EnhancedDNN(nn.Module):\n",
    "    def __init__(self, input_dim):\n",
    "        super().__init__()\n",
    "        self.model = nn.Sequential(\n",
    "            nn.Linear(input_dim, 512),\n",
    "            nn.BatchNorm1d(512),\n",
    "            nn.ReLU(),\n",
    "            nn.Dropout(0.5),\n",
    "            \n",
    "            nn.Linear(512, 256),\n",
    "            nn.BatchNorm1d(256),\n",
    "            nn.ReLU(),\n",
    "            nn.Dropout(0.4),\n",
    "            \n",
    "            nn.Linear(256, 128),\n",
    "            nn.ReLU(),\n",
    "            \n",
    "            nn.Linear(128, 64),\n",
    "            nn.ReLU(),\n",
    "            \n",
    "            nn.Linear(64, 1)\n",
    "        )\n",
    "        \n",
    "    def forward(self, x):\n",
    "        return self.model(x)"
   ]
  },
  {
   "cell_type": "markdown",
   "id": "2de015fa26109634",
   "metadata": {},
   "source": [
    "## INICIALIZACIÓN DEL MODELO Y DE LOS HIPERPARÁMETROS"
   ]
  },
  {
   "cell_type": "code",
   "execution_count": 6,
   "id": "ed758f0710b5b169",
   "metadata": {
    "ExecuteTime": {
     "end_time": "2025-03-26T18:34:18.101634Z",
     "start_time": "2025-03-26T18:34:16.255292Z"
    }
   },
   "outputs": [
    {
     "name": "stderr",
     "output_type": "stream",
     "text": [
      "/home/alkain/miniconda3/lib/python3.12/site-packages/torch/optim/lr_scheduler.py:62: UserWarning: The verbose parameter is deprecated. Please use get_last_lr() to access the learning rate.\n",
      "  warnings.warn(\n"
     ]
    }
   ],
   "source": [
    "input_dim = X_train.shape[1]\n",
    "model = EnhancedDNN(input_dim).to(device)\n",
    "\n",
    "batch_size = 512\n",
    "train_dataset = TensorDataset(X_train_tensor, y_train_tensor)\n",
    "train_loader = DataLoader(train_dataset, batch_size=batch_size, shuffle=True)\n",
    "\n",
    "optimizer = optim.Adam(model.parameters(), lr=0.0001, weight_decay=1e-4)\n",
    "scheduler = optim.lr_scheduler.ReduceLROnPlateau(optimizer, mode='min', patience=3, factor=0.5, verbose=True)\n",
    "criterion = nn.MSELoss()\n",
    "\n",
    "epochs = 200\n",
    "best_loss = np.inf\n",
    "patience = 12\n",
    "counter = 0\n",
    "train_losses = []"
   ]
  },
  {
   "cell_type": "markdown",
   "id": "6cec5e7e011d1a90",
   "metadata": {},
   "source": [
    "## ENTRENAMIENTO DEL MODELO"
   ]
  },
  {
   "cell_type": "code",
   "execution_count": 7,
   "id": "678b6270fb0196ed",
   "metadata": {
    "ExecuteTime": {
     "end_time": "2025-03-26T19:26:41.197693Z",
     "start_time": "2025-03-26T18:34:18.155655Z"
    }
   },
   "outputs": [
    {
     "name": "stdout",
     "output_type": "stream",
     "text": [
      "Epoch [1/200], Loss: 314.9773\n",
      "Epoch [2/200], Loss: 43.5830\n",
      "Epoch [3/200], Loss: 35.3638\n",
      "Epoch [4/200], Loss: 31.4859\n",
      "Epoch [5/200], Loss: 28.7057\n",
      "Epoch [6/200], Loss: 26.5149\n",
      "Epoch [7/200], Loss: 25.1684\n",
      "Epoch [8/200], Loss: 24.1872\n",
      "Epoch [9/200], Loss: 22.9785\n",
      "Epoch [10/200], Loss: 22.3006\n",
      "Epoch [11/200], Loss: 21.6910\n",
      "Epoch [12/200], Loss: 20.8491\n",
      "Epoch [13/200], Loss: 20.2200\n",
      "Epoch [14/200], Loss: 19.6242\n",
      "Epoch [15/200], Loss: 18.7031\n",
      "Epoch [16/200], Loss: 18.3771\n",
      "Epoch [17/200], Loss: 17.7695\n",
      "Epoch [18/200], Loss: 17.3608\n",
      "Epoch [19/200], Loss: 16.5758\n",
      "Epoch [20/200], Loss: 16.4603\n",
      "Epoch [21/200], Loss: 16.1962\n",
      "Epoch [22/200], Loss: 15.6409\n",
      "Epoch [23/200], Loss: 15.2277\n",
      "Epoch [24/200], Loss: 14.9702\n",
      "Epoch [25/200], Loss: 14.5967\n",
      "Epoch [26/200], Loss: 14.2417\n",
      "Epoch [27/200], Loss: 13.9599\n",
      "Epoch [28/200], Loss: 13.6430\n",
      "Epoch [29/200], Loss: 13.2953\n",
      "Epoch [30/200], Loss: 13.2512\n",
      "Epoch [31/200], Loss: 12.8636\n",
      "Epoch [32/200], Loss: 12.6650\n",
      "Epoch [33/200], Loss: 12.5834\n",
      "Epoch [34/200], Loss: 12.3125\n",
      "Epoch [35/200], Loss: 12.0434\n",
      "Epoch [36/200], Loss: 11.8371\n",
      "Epoch [37/200], Loss: 11.7291\n",
      "Epoch [38/200], Loss: 11.4525\n",
      "Epoch [39/200], Loss: 11.4095\n",
      "Epoch [40/200], Loss: 11.1862\n",
      "Epoch [41/200], Loss: 11.0591\n",
      "Epoch [42/200], Loss: 10.9288\n",
      "Epoch [43/200], Loss: 10.8284\n",
      "Epoch [44/200], Loss: 10.6391\n",
      "Epoch [45/200], Loss: 10.5374\n",
      "Epoch [46/200], Loss: 10.4433\n",
      "Epoch [47/200], Loss: 10.4133\n",
      "Epoch [48/200], Loss: 10.1430\n",
      "Epoch [49/200], Loss: 9.9715\n",
      "Epoch [50/200], Loss: 9.9133\n",
      "Epoch [51/200], Loss: 9.9458\n",
      "Epoch [52/200], Loss: 9.7302\n",
      "Epoch [53/200], Loss: 9.7085\n",
      "Epoch [54/200], Loss: 9.5055\n",
      "Epoch [55/200], Loss: 9.4141\n",
      "Epoch [56/200], Loss: 9.4745\n",
      "Epoch [57/200], Loss: 9.3279\n",
      "Epoch [58/200], Loss: 9.3212\n",
      "Epoch [59/200], Loss: 9.0547\n",
      "Epoch [60/200], Loss: 8.9973\n",
      "Epoch [61/200], Loss: 8.9358\n",
      "Epoch [62/200], Loss: 8.7727\n",
      "Epoch [63/200], Loss: 8.7263\n",
      "Epoch [64/200], Loss: 8.7411\n",
      "Epoch [65/200], Loss: 8.6627\n",
      "Epoch [66/200], Loss: 8.5440\n",
      "Epoch [67/200], Loss: 8.4208\n",
      "Epoch [68/200], Loss: 8.3768\n",
      "Epoch [69/200], Loss: 8.2363\n",
      "Epoch [70/200], Loss: 8.2355\n",
      "Epoch [71/200], Loss: 8.0398\n",
      "Epoch [72/200], Loss: 8.0567\n",
      "Epoch [73/200], Loss: 7.9731\n",
      "Epoch [74/200], Loss: 7.8963\n",
      "Epoch [75/200], Loss: 7.9379\n",
      "Epoch [76/200], Loss: 7.8105\n",
      "Epoch [77/200], Loss: 7.7685\n",
      "Epoch [78/200], Loss: 7.6525\n",
      "Epoch [79/200], Loss: 7.7017\n",
      "Epoch [80/200], Loss: 7.6000\n",
      "Epoch [81/200], Loss: 7.4049\n",
      "Epoch [82/200], Loss: 7.3736\n",
      "Epoch [83/200], Loss: 7.4359\n",
      "Epoch [84/200], Loss: 7.3138\n",
      "Epoch [85/200], Loss: 7.3048\n",
      "Epoch [86/200], Loss: 7.1626\n",
      "Epoch [87/200], Loss: 7.1375\n",
      "Epoch [88/200], Loss: 7.1710\n",
      "Epoch [89/200], Loss: 6.9709\n",
      "Epoch [90/200], Loss: 7.0245\n",
      "Epoch [91/200], Loss: 6.9767\n",
      "Epoch [92/200], Loss: 6.9442\n",
      "Epoch [93/200], Loss: 6.8448\n",
      "Epoch [94/200], Loss: 6.7055\n",
      "Epoch [95/200], Loss: 6.6533\n",
      "Epoch [96/200], Loss: 6.6046\n",
      "Epoch [97/200], Loss: 6.5981\n",
      "Epoch [98/200], Loss: 6.5868\n",
      "Epoch [99/200], Loss: 6.4984\n",
      "Epoch [100/200], Loss: 6.4328\n",
      "Epoch [101/200], Loss: 6.4007\n",
      "Epoch [102/200], Loss: 6.2915\n",
      "Epoch [103/200], Loss: 6.3011\n",
      "Epoch [104/200], Loss: 6.2359\n",
      "Epoch [105/200], Loss: 6.1138\n",
      "Epoch [106/200], Loss: 6.1909\n",
      "Epoch [107/200], Loss: 6.0423\n",
      "Epoch [108/200], Loss: 6.0686\n",
      "Epoch [109/200], Loss: 5.9771\n",
      "Epoch [110/200], Loss: 5.9452\n",
      "Epoch [111/200], Loss: 5.9004\n",
      "Epoch [112/200], Loss: 5.8498\n",
      "Epoch [113/200], Loss: 5.9353\n",
      "Epoch [114/200], Loss: 5.7392\n",
      "Epoch [115/200], Loss: 5.8156\n",
      "Epoch [116/200], Loss: 5.6915\n",
      "Epoch [117/200], Loss: 5.6580\n",
      "Epoch [118/200], Loss: 5.6205\n",
      "Epoch [119/200], Loss: 5.6060\n",
      "Epoch [120/200], Loss: 5.6254\n",
      "Epoch [121/200], Loss: 5.4812\n",
      "Epoch [122/200], Loss: 5.4837\n",
      "Epoch [123/200], Loss: 5.4506\n",
      "Epoch [124/200], Loss: 5.4017\n",
      "Epoch [125/200], Loss: 5.3194\n",
      "Epoch [126/200], Loss: 5.3241\n",
      "Epoch [127/200], Loss: 5.1568\n",
      "Epoch [128/200], Loss: 5.2250\n",
      "Epoch [129/200], Loss: 5.1679\n",
      "Epoch [130/200], Loss: 5.1379\n",
      "Epoch [131/200], Loss: 5.1487\n",
      "Epoch [132/200], Loss: 5.0639\n",
      "Epoch [133/200], Loss: 5.0913\n",
      "Epoch [134/200], Loss: 4.9292\n",
      "Epoch [135/200], Loss: 4.8723\n",
      "Epoch [136/200], Loss: 4.9409\n",
      "Epoch [137/200], Loss: 5.0530\n",
      "Epoch [138/200], Loss: 4.9120\n",
      "Epoch [139/200], Loss: 4.9243\n",
      "Epoch [140/200], Loss: 4.5813\n",
      "Epoch [141/200], Loss: 4.6174\n",
      "Epoch [142/200], Loss: 4.6400\n",
      "Epoch [143/200], Loss: 4.5243\n",
      "Epoch [144/200], Loss: 4.5449\n",
      "Epoch [145/200], Loss: 4.5739\n",
      "Epoch [146/200], Loss: 4.4993\n",
      "Epoch [147/200], Loss: 4.5251\n",
      "Epoch [148/200], Loss: 4.4420\n",
      "Epoch [149/200], Loss: 4.4938\n",
      "Epoch [150/200], Loss: 4.4582\n",
      "Epoch [151/200], Loss: 4.4478\n",
      "Epoch [152/200], Loss: 4.4754\n",
      "Epoch [153/200], Loss: 4.3393\n",
      "Epoch [154/200], Loss: 4.2883\n",
      "Epoch [155/200], Loss: 4.3041\n",
      "Epoch [156/200], Loss: 4.2923\n",
      "Epoch [157/200], Loss: 4.3168\n",
      "Epoch [158/200], Loss: 4.2899\n",
      "Epoch [159/200], Loss: 4.1954\n",
      "Epoch [160/200], Loss: 4.1424\n",
      "Epoch [161/200], Loss: 4.1969\n",
      "Epoch [162/200], Loss: 4.2539\n",
      "Epoch [163/200], Loss: 4.2064\n",
      "Epoch [164/200], Loss: 4.1735\n",
      "Epoch [165/200], Loss: 4.1827\n",
      "Epoch [166/200], Loss: 4.1623\n",
      "Epoch [167/200], Loss: 4.1669\n",
      "Epoch [168/200], Loss: 4.0931\n",
      "Epoch [169/200], Loss: 4.1310\n",
      "Epoch [170/200], Loss: 4.1594\n",
      "Epoch [171/200], Loss: 4.1706\n",
      "Epoch [172/200], Loss: 4.1452\n",
      "Epoch [173/200], Loss: 4.0853\n",
      "Epoch [174/200], Loss: 4.1230\n",
      "Epoch [175/200], Loss: 4.1574\n",
      "Epoch [176/200], Loss: 4.0873\n",
      "Epoch [177/200], Loss: 4.1339\n",
      "Epoch [178/200], Loss: 4.1191\n",
      "Epoch [179/200], Loss: 4.1160\n",
      "Epoch [180/200], Loss: 4.1077\n",
      "Epoch [181/200], Loss: 4.0548\n",
      "Epoch [182/200], Loss: 4.0847\n",
      "Epoch [183/200], Loss: 4.0781\n",
      "Epoch [184/200], Loss: 4.1016\n",
      "Epoch [185/200], Loss: 4.0781\n",
      "Epoch [186/200], Loss: 4.0802\n",
      "Epoch [187/200], Loss: 4.1001\n",
      "Epoch [188/200], Loss: 4.0547\n",
      "Epoch [189/200], Loss: 4.1167\n",
      "Epoch [190/200], Loss: 4.1049\n",
      "Epoch [191/200], Loss: 4.0643\n",
      "Epoch [192/200], Loss: 4.0823\n",
      "Epoch [193/200], Loss: 4.1131\n",
      "Epoch [194/200], Loss: 4.0989\n",
      "Epoch [195/200], Loss: 4.1113\n",
      "Epoch [196/200], Loss: 4.0819\n",
      "Epoch [197/200], Loss: 4.0631\n",
      "Epoch [198/200], Loss: 4.0963\n",
      "Epoch [199/200], Loss: 4.0776\n",
      "Epoch [200/200], Loss: 4.0576\n",
      "⏹️ Early stopping at epoch 200\n"
     ]
    },
    {
     "data": {
      "text/plain": [
       "<All keys matched successfully>"
      ]
     },
     "execution_count": 7,
     "metadata": {},
     "output_type": "execute_result"
    }
   ],
   "source": [
    "for epoch in range(epochs):\n",
    "    model.train()\n",
    "    running_loss = 0.0\n",
    "    for xb, yb in train_loader:\n",
    "        optimizer.zero_grad()\n",
    "        outputs = model(xb)\n",
    "        loss = criterion(outputs, yb)\n",
    "        loss.backward()\n",
    "        optimizer.step()\n",
    "        running_loss += loss.item() * xb.size(0)\n",
    "    \n",
    "    avg_loss = running_loss / len(train_loader.dataset)\n",
    "    train_losses.append(avg_loss)\n",
    "    scheduler.step(avg_loss)\n",
    "    \n",
    "    print(f\"Epoch [{epoch+1}/{epochs}], Loss: {avg_loss:.4f}\")\n",
    "    \n",
    "    if avg_loss < best_loss:\n",
    "        best_loss = avg_loss\n",
    "        counter = 0\n",
    "        torch.save(model.state_dict(), \"best_model_all_data.pth\")\n",
    "    else:\n",
    "        counter += 1\n",
    "        if counter >= patience:\n",
    "            print(f\"⏹️ Early stopping at epoch {epoch+1}\")\n",
    "            break\n",
    "\n",
    "model.load_state_dict(torch.load(\"best_model_all_data.pth\"))"
   ]
  },
  {
   "cell_type": "markdown",
   "id": "ab03b694a293450",
   "metadata": {},
   "source": [
    "## EVALUACIÓN DEL MODELO\n",
    "Métricas:\n",
    "* MSE\n",
    "* MAE\n",
    "* R^2"
   ]
  },
  {
   "cell_type": "code",
   "execution_count": 8,
   "id": "initial_id",
   "metadata": {
    "ExecuteTime": {
     "end_time": "2025-03-26T19:27:27.889235Z",
     "start_time": "2025-03-26T19:27:26.586936Z"
    },
    "collapsed": true
   },
   "outputs": [
    {
     "name": "stdout",
     "output_type": "stream",
     "text": [
      "\n",
      "📊 Test MSE: 3.6679\n",
      "📏 Test MAE: 1.0874\n",
      "📈 Test R2: 0.9974\n",
      "MAE para Cocoa_CIGS39017.csv: 1.10\n",
      "MAE para Cocoa_CIGS8-001.csv: 1.71\n",
      "MAE para Cocoa_CdTe75638.csv: 1.27\n",
      "MAE para Cocoa_HIT05667.csv: 1.76\n",
      "MAE para Cocoa_aSiMicro03036.csv: 0.94\n",
      "MAE para Cocoa_aSiTandem72-46.csv: 0.53\n",
      "MAE para Cocoa_aSiTriple28324.csv: 1.18\n",
      "MAE para Cocoa_mSi0166.csv: 0.59\n",
      "MAE para Cocoa_mSi0188.csv: 0.58\n",
      "MAE para Cocoa_mSi460A8.csv: 1.76\n",
      "MAE para Cocoa_xSi12922.csv: 1.93\n",
      "MAE para Eugene_CIGS39017.csv: 0.97\n",
      "MAE para Eugene_CIGS8-001.csv: 0.93\n",
      "MAE para Eugene_CdTe75638.csv: 0.88\n",
      "MAE para Eugene_HIT05667.csv: 1.38\n",
      "MAE para Eugene_aSiMicro03036.csv: 0.80\n",
      "MAE para Eugene_aSiTandem72-46.csv: 0.45\n",
      "MAE para Eugene_aSiTriple28324.csv: 0.80\n",
      "MAE para Eugene_mSi0166.csv: 0.47\n",
      "MAE para Eugene_mSi0188.csv: 0.48\n",
      "MAE para Eugene_mSi460A8.csv: 1.40\n",
      "MAE para Eugene_xSi12922.csv: 1.46\n",
      "MAE para Golden_CIGS1-001.csv: 1.76\n",
      "MAE para Golden_CIGS39013.csv: 1.58\n",
      "MAE para Golden_CdTe75669.csv: 1.22\n",
      "MAE para Golden_HIT05662.csv: 1.76\n",
      "MAE para Golden_aSiMicro03038.csv: 1.44\n",
      "MAE para Golden_aSiTandem90-31.csv: 0.71\n",
      "MAE para Golden_aSiTriple28325.csv: 0.97\n",
      "MAE para Golden_mSi0247.csv: 0.69\n",
      "MAE para Golden_mSi0251.csv: 0.68\n",
      "MAE para Golden_mSi460BB.csv: 2.03\n",
      "MAE para Golden_xSi11246.csv: 2.16\n"
     ]
    },
    {
     "data": {
      "image/png": "[encoded data removed]",
      "text/plain": [
       "<Figure size 1200x400 with 3 Axes>"
      ]
     },
     "metadata": {},
     "output_type": "display_data"
    }
   ],
   "source": [
    "model.eval()\n",
    "with torch.no_grad():\n",
    "    y_pred = model(X_test_tensor).cpu().numpy()\n",
    "    y_test_np = y_test_tensor.cpu().numpy()\n",
    "    \n",
    "    mse = mean_squared_error(y_test_np, y_pred)\n",
    "    mae = mean_absolute_error(y_test_np, y_pred)\n",
    "    r2 = r2_score(y_test_np, y_pred)\n",
    "    \n",
    "    print(f\"\\n📊 Test MSE: {mse:.4f}\")\n",
    "    print(f\"📏 Test MAE: {mae:.4f}\")\n",
    "    print(f\"📈 Test R2: {r2:.4f}\")\n",
    "    \n",
    "    test_df['pred'] = y_pred\n",
    "    for col in test_df.filter(regex='^src_').columns:\n",
    "        if test_df[col].sum() > 0: \n",
    "            source_name = col.replace('src_', '')\n",
    "            subset = test_df[test_df[col] == 1]\n",
    "            if not subset.empty:\n",
    "                source_mae = mean_absolute_error(subset['Pmp (W)'], subset['pred'])\n",
    "                print(f\"MAE para {source_name}: {source_mae:.2f}\")\n",
    "\n",
    "plt.figure(figsize=(12, 4))\n",
    "\n",
    "plt.subplot(131)\n",
    "plt.plot(train_losses)\n",
    "plt.title('Training Loss')\n",
    "plt.xlabel('Epoch')\n",
    "plt.grid(True)\n",
    "\n",
    "plt.subplot(132)\n",
    "plt.scatter(y_test_np, y_pred, alpha=0.3)\n",
    "plt.plot([0, y_test_np.max()], [0, y_test_np.max()], 'r--')\n",
    "plt.title('True vs Predicted')\n",
    "plt.xlabel('True Values')\n",
    "plt.ylabel('Predictions')\n",
    "plt.grid(True)\n",
    "\n",
    "plt.subplot(133)\n",
    "residuals = y_test_np - y_pred\n",
    "plt.hist(residuals, bins=50, density=True, alpha=0.6)\n",
    "plt.title('Residual Distribution')\n",
    "plt.xlabel('Residuals')\n",
    "plt.grid(True)\n",
    "\n",
    "plt.tight_layout()\n",
    "plt.show()"
   ]
  }
 ],
 "metadata": {
  "kernelspec": {
   "display_name": "base",
   "language": "python",
   "name": "python3"
  },
  "language_info": {
   "codemirror_mode": {
    "name": "ipython",
    "version": 3
   },
   "file_extension": ".py",
   "mimetype": "text/x-python",
   "name": "python",
   "nbconvert_exporter": "python",
   "pygments_lexer": "ipython3",
   "version": "3.12.9"
  }
 },
 "nbformat": 4,
 "nbformat_minor": 5
}
