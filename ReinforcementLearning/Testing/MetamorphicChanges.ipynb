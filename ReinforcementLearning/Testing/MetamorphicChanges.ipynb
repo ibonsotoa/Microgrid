{
 "nbformat": 4,
 "nbformat_minor": 0,
 "metadata": {
  "colab": {
   "provenance": []
  },
  "kernelspec": {
   "name": "python3",
   "display_name": "Python 3"
  },
  "language_info": {
   "name": "python"
  }
 },
 "cells": [
  {
   "cell_type": "markdown",
   "source": [
    "# CREAR DATOS SINTÉTICOS CON DISTRIBUCIONES DIFERENTES MODIFICANDO LA MEDIA PARA APLICAR UN TESTEO METAMÓRFICO"
   ],
   "metadata": {
    "id": "MZpJmqkGCeqk"
   }
  },
  {
   "cell_type": "markdown",
   "source": [
    "## IMPORTAR LIBRERÍAS"
   ],
   "metadata": {
    "id": "sqqX6314Cqbi"
   }
  },
  {
   "cell_type": "code",
   "source": [
    "import pandas as pd\n",
    "import numpy as np"
   ],
   "metadata": {
    "id": "W2A6k2txCpMi"
   },
   "execution_count": null,
   "outputs": []
  },
  {
   "cell_type": "markdown",
   "source": "## FUNCIÓN PARA AUMENTAR LA MEDIA DE LOS VALORES DE LOS CSV SEGÚN UN FACTOR",
   "metadata": {
    "id": "3_enStFjCtKS"
   }
  },
  {
   "cell_type": "code",
   "execution_count": 1,
   "metadata": {
    "colab": {
     "base_uri": "https://localhost:8080/"
    },
    "id": "rlA8284Q0U95",
    "outputId": "bc83440a-52d5-49f2-dcf8-0c323e1e76ea"
   },
   "outputs": [
    {
     "output_type": "stream",
     "name": "stderr",
     "text": [
      "<ipython-input-1-85cff66d9a80>:19: FutureWarning: Setting an item of incompatible dtype is deprecated and will raise in a future error of pandas. Value '0       208.199772\n",
      "1       208.199772\n",
      "2       208.199772\n",
      "3       208.199772\n",
      "4       208.199772\n",
      "           ...    \n",
      "8755    208.199772\n",
      "8756    208.199772\n",
      "8757    208.199772\n",
      "8758    208.199772\n",
      "8759    208.199772\n",
      "Name: GH illum (lx), Length: 8760, dtype: float64' has dtype incompatible with int64, please explicitly cast to a compatible dtype first.\n",
      "  df.iloc[:, 0] += incremento\n"
     ]
    }
   ],
   "source": [
    "def aumentar_media_csv(input_csv, output_csv, factor=2):\n",
    "    df = pd.read_csv(input_csv)\n",
    "\n",
    "    if df.shape[1] != 1:\n",
    "        raise ValueError(\"El archivo CSV debe tener solo una columna\")\n",
    "\n",
    "    media_actual = df.iloc[:, 0].mean()\n",
    "\n",
    "    incremento = (factor * media_actual) - media_actual\n",
    "\n",
    "    df.iloc[:, 0] += incremento\n",
    "\n",
    "    df.to_csv(output_csv, index=False)\n",
    "\n",
    "aumentar_media_csv(\"/content/drive/MyDrive/mia-2s1/reto3/testing/RefBldgFullServiceRestaurantNew2004_v1.3_7.1_6A_USA_MN_MINNEAPOLIS.csv\", \"/content/drive/MyDrive/mia-2s1/reto3/testing/AugmentedMeanRefBldgFullServiceRestaurantNew2004_v1.3_7.1_6A_USA_MN_MINNEAPOLIS.csv\", factor=2)\n",
    "aumentar_media_csv(\"/content/drive/MyDrive/mia-2s1/reto3/testing/SanFrancisco_724940TYA.csv\", \"/content/drive/MyDrive/mia-2s1/reto3/testing/AugmentedMeanSanFrancisco_724940TYA.csv\", factor=2)\n",
    "aumentar_media_csv(\"/content/drive/MyDrive/mia-2s1/reto3/testing/co2_caiso.csv\", \"/content/drive/MyDrive/mia-2s1/reto3/testing/AugmentedMeanco2_caiso.csv\", factor=2)\n"
   ]
  },
  {
   "cell_type": "markdown",
   "source": [
    "## FUNCIÓN PARA CALCULAR LA MEDIA E IMPRIMIRLA, VERIFICANDO QUE LA MODIFICACIÓN ANTERIOR HA SIDO EFECTIVA"
   ],
   "metadata": {
    "id": "WyYGNs0qCyJi"
   }
  },
  {
   "cell_type": "code",
   "source": [
    "def imprimir_media_csv(csv_file):\n",
    "    df = pd.read_csv(csv_file)\n",
    "    if df.shape[1] != 1:\n",
    "        raise ValueError(\"El archivo CSV debe tener solo una columna\")\n",
    "    media = df.iloc[:, 0].mean()\n",
    "    print(f\"Media de {csv_file}: {media}\")\n",
    "\n",
    "imprimir_media_csv(\"/content/drive/MyDrive/mia-2s1/reto3/testing/RefBldgFullServiceRestaurantNew2004_v1.3_7.1_6A_USA_MN_MINNEAPOLIS.csv\")\n",
    "imprimir_media_csv(\"/content/drive/MyDrive/mia-2s1/reto3/testing/AugmentedMeanRefBldgFullServiceRestaurantNew2004_v1.3_7.1_6A_USA_MN_MINNEAPOLIS.csv\")\n",
    "imprimir_media_csv(\"/content/drive/MyDrive/mia-2s1/reto3/testing/SanFrancisco_724940TYA.csv\")\n",
    "imprimir_media_csv(\"/content/drive/MyDrive/mia-2s1/reto3/testing/AugmentedMeanSanFrancisco_724940TYA.csv\")\n",
    "imprimir_media_csv(\"/content/drive/MyDrive/mia-2s1/reto3/testing/co2_caiso.csv\")\n",
    "imprimir_media_csv(\"/content/drive/MyDrive/mia-2s1/reto3/testing/AugmentedMeanco2_caiso.csv\")"
   ],
   "metadata": {
    "colab": {
     "base_uri": "https://localhost:8080/"
    },
    "id": "ha_Jwiw32RFb",
    "outputId": "61cf9768-ecdb-4ca2-de0b-a93410d3b800"
   },
   "execution_count": 2,
   "outputs": [
    {
     "output_type": "stream",
     "name": "stdout",
     "text": [
      "Media de /content/drive/MyDrive/mia-2s1/reto3/testing/RefBldgFullServiceRestaurantNew2004_v1.3_7.1_6A_USA_MN_MINNEAPOLIS.csv: 35.48129092019977\n",
      "Media de /content/drive/MyDrive/mia-2s1/reto3/testing/AugmentedMeanRefBldgFullServiceRestaurantNew2004_v1.3_7.1_6A_USA_MN_MINNEAPOLIS.csv: 70.96258184039954\n",
      "Media de /content/drive/MyDrive/mia-2s1/reto3/testing/SanFrancisco_724940TYA.csv: 208.1997716894977\n",
      "Media de /content/drive/MyDrive/mia-2s1/reto3/testing/AugmentedMeanSanFrancisco_724940TYA.csv: 416.39954337899536\n",
      "Media de /content/drive/MyDrive/mia-2s1/reto3/testing/co2_caiso.csv: 0.22652907691746574\n",
      "Media de /content/drive/MyDrive/mia-2s1/reto3/testing/AugmentedMeanco2_caiso.csv: 0.4530581538349315\n"
     ]
    }
   ]
  },
  {
   "cell_type": "markdown",
   "source": [
    "## FUNCIÓN PARA DISMINUIR LA MEDIA DE LOS VALORES DE LOS CSV SEGÚN UN FACTOR"
   ],
   "metadata": {
    "id": "2jGlWwkPC7fK"
   }
  },
  {
   "cell_type": "code",
   "source": [
    "def disminuir_media_csv(input_csv, output_csv, factor=2):\n",
    "    df = pd.read_csv(input_csv)\n",
    "\n",
    "    if df.shape[1] != 1:\n",
    "        raise ValueError(\"El archivo CSV debe tener solo una columna\")\n",
    "\n",
    "    media_actual = df.iloc[:, 0].mean()\n",
    "\n",
    "    decremento = media_actual - (media_actual / factor)\n",
    "\n",
    "    df.iloc[:, 0] -= decremento\n",
    "\n",
    "    df.to_csv(output_csv, index=False)\n",
    "\n",
    "disminuir_media_csv(\"/content/drive/MyDrive/mia-2s1/reto3/testing/RefBldgFullServiceRestaurantNew2004_v1.3_7.1_6A_USA_MN_MINNEAPOLIS.csv\", \"/content/drive/MyDrive/mia-2s1/reto3/testing/ReducedMeanRefBldgFullServiceRestaurantNew2004_v1.3_7.1_6A_USA_MN_MINNEAPOLIS.csv\", factor=2)\n",
    "disminuir_media_csv(\"/content/drive/MyDrive/mia-2s1/reto3/testing/SanFrancisco_724940TYA.csv\", \"/content/drive/MyDrive/mia-2s1/reto3/testing/ReducedMeanSanFrancisco_724940TYA.csv\", factor=2)\n",
    "disminuir_media_csv(\"/content/drive/MyDrive/mia-2s1/reto3/testing/co2_caiso.csv\", \"/content/drive/MyDrive/mia-2s1/reto3/testing/ReducedMeanco2_caiso.csv\", factor=2)"
   ],
   "metadata": {
    "colab": {
     "base_uri": "https://localhost:8080/"
    },
    "id": "0d2MmnJW17Ar",
    "outputId": "4d584dab-e8d0-4ee7-d873-b3a0e02dd442"
   },
   "execution_count": 3,
   "outputs": [
    {
     "output_type": "stream",
     "name": "stderr",
     "text": [
      "<ipython-input-3-f1e2cd305c09>:16: FutureWarning: Setting an item of incompatible dtype is deprecated and will raise in a future error of pandas. Value '0      -104.099886\n",
      "1      -104.099886\n",
      "2      -104.099886\n",
      "3      -104.099886\n",
      "4      -104.099886\n",
      "           ...    \n",
      "8755   -104.099886\n",
      "8756   -104.099886\n",
      "8757   -104.099886\n",
      "8758   -104.099886\n",
      "8759   -104.099886\n",
      "Name: GH illum (lx), Length: 8760, dtype: float64' has dtype incompatible with int64, please explicitly cast to a compatible dtype first.\n",
      "  df.iloc[:, 0] -= decremento\n"
     ]
    }
   ]
  },
  {
   "cell_type": "markdown",
   "source": [
    "## COMPROBACIÓN DE MEDIAS"
   ],
   "metadata": {
    "id": "jZO4nEFRC-WC"
   }
  },
  {
   "cell_type": "code",
   "source": [
    "imprimir_media_csv(\"/content/drive/MyDrive/mia-2s1/reto3/testing/RefBldgFullServiceRestaurantNew2004_v1.3_7.1_6A_USA_MN_MINNEAPOLIS.csv\")\n",
    "imprimir_media_csv(\"/content/drive/MyDrive/mia-2s1/reto3/testing/ReducedMeanRefBldgFullServiceRestaurantNew2004_v1.3_7.1_6A_USA_MN_MINNEAPOLIS.csv\")\n",
    "imprimir_media_csv(\"/content/drive/MyDrive/mia-2s1/reto3/testing/SanFrancisco_724940TYA.csv\")\n",
    "imprimir_media_csv(\"/content/drive/MyDrive/mia-2s1/reto3/testing/ReducedMeanSanFrancisco_724940TYA.csv\")\n",
    "imprimir_media_csv(\"/content/drive/MyDrive/mia-2s1/reto3/testing/co2_caiso.csv\")\n",
    "imprimir_media_csv(\"/content/drive/MyDrive/mia-2s1/reto3/testing/ReducedMeanco2_caiso.csv\")"
   ],
   "metadata": {
    "colab": {
     "base_uri": "https://localhost:8080/"
    },
    "id": "Va9TIMPp3C37",
    "outputId": "98a13f37-9b34-416c-d613-58ab5e2b5c06"
   },
   "execution_count": 5,
   "outputs": [
    {
     "output_type": "stream",
     "name": "stdout",
     "text": [
      "Media de /content/drive/MyDrive/mia-2s1/reto3/testing/RefBldgFullServiceRestaurantNew2004_v1.3_7.1_6A_USA_MN_MINNEAPOLIS.csv: 35.48129092019977\n",
      "Media de /content/drive/MyDrive/mia-2s1/reto3/testing/ReducedMeanRefBldgFullServiceRestaurantNew2004_v1.3_7.1_6A_USA_MN_MINNEAPOLIS.csv: 17.740645460099888\n",
      "Media de /content/drive/MyDrive/mia-2s1/reto3/testing/SanFrancisco_724940TYA.csv: 208.1997716894977\n",
      "Media de /content/drive/MyDrive/mia-2s1/reto3/testing/ReducedMeanSanFrancisco_724940TYA.csv: 104.09988584474888\n",
      "Media de /content/drive/MyDrive/mia-2s1/reto3/testing/co2_caiso.csv: 0.22652907691746574\n",
      "Media de /content/drive/MyDrive/mia-2s1/reto3/testing/ReducedMeanco2_caiso.csv: 0.11326453845873287\n"
     ]
    }
   ]
  },
  {
   "cell_type": "code",
   "source": [
    "!pip install zipfile36"
   ],
   "metadata": {
    "colab": {
     "base_uri": "https://localhost:8080/"
    },
    "id": "-OV1Twuo35pK",
    "outputId": "8461bb37-232a-462f-8f03-c9caabf1d401"
   },
   "execution_count": 9,
   "outputs": [
    {
     "output_type": "stream",
     "name": "stdout",
     "text": [
      "Collecting zipfile36\n",
      "  Downloading zipfile36-0.1.3-py3-none-any.whl.metadata (736 bytes)\n",
      "Downloading zipfile36-0.1.3-py3-none-any.whl (20 kB)\n",
      "Installing collected packages: zipfile36\n",
      "Successfully installed zipfile36-0.1.3\n"
     ]
    }
   ]
  },
  {
   "cell_type": "markdown",
   "source": [
    "## COMPRENSIÓN DE NUEVOS DATOS EN UN ZIP"
   ],
   "metadata": {
    "id": "qTeSwMx2DAyb"
   }
  },
  {
   "cell_type": "code",
   "source": [
    "import zipfile\n",
    "def comprimir_archivos(archivos, zip_nombre):\n",
    "    with zipfile.ZipFile(zip_nombre, 'w') as zipf:\n",
    "        for archivo in archivos:\n",
    "            zipf.write(archivo)"
   ],
   "metadata": {
    "id": "52O-O2ZA31Pz"
   },
   "execution_count": 12,
   "outputs": []
  },
  {
   "cell_type": "code",
   "source": [
    "comprimir_archivos([\"/content/drive/MyDrive/mia-2s1/reto3/testing/AugmentedMeanRefBldgFullServiceRestaurantNew2004_v1.3_7.1_6A_USA_MN_MINNEAPOLIS.csv\", \"/content/drive/MyDrive/mia-2s1/reto3/testing/AugmentedMeanSanFrancisco_724940TYA.csv\", \"/content/drive/MyDrive/mia-2s1/reto3/testing/AugmentedMeanco2_caiso.csv\"], \"data_augmented.zip\")\n",
    "comprimir_archivos([\"/content/drive/MyDrive/mia-2s1/reto3/testing/ReducedMeanRefBldgFullServiceRestaurantNew2004_v1.3_7.1_6A_USA_MN_MINNEAPOLIS.csv\", \"/content/drive/MyDrive/mia-2s1/reto3/testing/ReducedMeanSanFrancisco_724940TYA.csv\", \"/content/drive/MyDrive/mia-2s1/reto3/testing/ReducedMeanco2_caiso.csv\"], \"data_reduced.zip\")"
   ],
   "metadata": {
    "id": "aY8Kvq6732x8"
   },
   "execution_count": 14,
   "outputs": []
  }
 ]
}
