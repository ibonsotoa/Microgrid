{
 "nbformat": 4,
 "nbformat_minor": 0,
 "metadata": {
  "colab": {
   "provenance": [],
   "mount_file_id": "1JWhSrpR-QEyzGXcKhbwxZZRjx9xnJS6v",
   "authorship_tag": "ABX9TyPYgMUmruVyIwXYpvVM8vA/"
  },
  "kernelspec": {
   "name": "python3",
   "display_name": "Python 3"
  },
  "language_info": {
   "name": "python"
  }
 },
 "cells": [
  {
   "cell_type": "markdown",
   "source": [
    "# CREAR DATOS SINTÉTICOS CON DISTRIBUCIONES DIFERENTES MODIFICANDO LA MEDIA PARA APLICAR UN TESTEO METAMÓRFICO"
   ],
   "metadata": {
    "id": "MZpJmqkGCeqk"
   }
  },
  {
   "cell_type": "markdown",
   "source": [
    "## IMPORTAR LIBRERÍAS"
   ],
   "metadata": {
    "id": "sqqX6314Cqbi"
   }
  },
  {
   "cell_type": "code",
   "source": [
    "import pandas as pd\n",
    "import numpy as np"
   ],
   "metadata": {
    "id": "W2A6k2txCpMi",
    "executionInfo": {
     "status": "ok",
     "timestamp": 1743416156786,
     "user_tz": -120,
     "elapsed": 7,
     "user": {
      "displayName": "Ibon Soto Alsua",
      "userId": "05619249575118640628"
     }
    }
   },
   "execution_count": 17,
   "outputs": []
  },
  {
   "cell_type": "markdown",
   "source": [
    "##FUNCIÓN PARA AUMENTAR LA MEDIA DE LOS VALORES DE LOS CSV SEGÚN UN FACTOR"
   ],
   "metadata": {
    "id": "3_enStFjCtKS"
   }
  },
  {
   "cell_type": "code",
   "execution_count": 18,
   "metadata": {
    "id": "rlA8284Q0U95",
    "executionInfo": {
     "status": "ok",
     "timestamp": 1743416156834,
     "user_tz": -120,
     "elapsed": 36,
     "user": {
      "displayName": "Ibon Soto Alsua",
      "userId": "05619249575118640628"
     }
    }
   },
   "outputs": [],
   "source": [
    "def aumentar_media_csv(input_csv, output_csv, factor=2):\n",
    "    df = pd.read_csv(input_csv)\n",
    "\n",
    "    if df.shape[1] != 1:\n",
    "        raise ValueError(\"El archivo CSV debe tener solo una columna\")\n",
    "\n",
    "    media_actual = df.iloc[:, 0].mean()\n",
    "    incremento = (factor * media_actual) - media_actual\n",
    "\n",
    "    df.iloc[:, 0] += incremento\n",
    "    df.to_csv(output_csv, index=False)\n",
    "\n",
    "def disminuir_media_csv(input_csv, output_csv, factor=2):\n",
    "    df = pd.read_csv(input_csv)\n",
    "\n",
    "    if df.shape[1] != 1:\n",
    "        raise ValueError(\"El archivo CSV debe tener solo una columna\")\n",
    "\n",
    "    media_actual = df.iloc[:, 0].mean()\n",
    "    decremento = media_actual - (media_actual / factor)\n",
    "\n",
    "    df.iloc[:, 0] -= decremento\n",
    "    df.to_csv(output_csv, index=False)\n",
    "\n",
    "def imprimir_media_csv(csv_file):\n",
    "    df = pd.read_csv(csv_file)\n",
    "    if df.shape[1] != 1:\n",
    "        raise ValueError(\"El archivo CSV debe tener solo una columna\")\n",
    "    media = df.iloc[:, 0].mean()\n",
    "    print(f\"Media de {csv_file}: {media}\")\n",
    "\n",
    "def comprimir_archivos(archivos, zip_nombre):\n",
    "    with zipfile.ZipFile(zip_nombre, 'w') as zipf:\n",
    "        for archivo in archivos:\n",
    "            zipf.write(archivo)"
   ]
  },
  {
   "cell_type": "code",
   "source": [
    "aumentar_media_csv(\"/content/drive/MyDrive/mia-2s1/reto3/testing/SanFrancisco_724940TYA.csv\",\n",
    "                   \"/content/drive/MyDrive/mia-2s1/reto3/testing/AugmentedPV_data.csv\", factor=2)\n",
    "\n",
    "disminuir_media_csv(\"/content/drive/MyDrive/mia-2s1/reto3/testing/RefBldgFullServiceRestaurantNew2004_v1.3_7.1_6A_USA_MN_MINNEAPOLIS.csv\",\n",
    "                    \"/content/drive/MyDrive/mia-2s1/reto3/testing/ReducedLoad_data.csv\", factor=2)\n",
    "\n",
    "disminuir_media_csv(\"/content/drive/MyDrive/mia-2s1/reto3/testing/SanFrancisco_724940TYA.csv\",\n",
    "                    \"/content/drive/MyDrive/mia-2s1/reto3/testing/ReducedPV_data.csv\", factor=2)\n",
    "\n",
    "aumentar_media_csv(\"/content/drive/MyDrive/mia-2s1/reto3/testing/RefBldgFullServiceRestaurantNew2004_v1.3_7.1_6A_USA_MN_MINNEAPOLIS.csv\",\n",
    "                   \"/content/drive/MyDrive/mia-2s1/reto3/testing/AugmentedLoad_data.csv\", factor=2)"
   ],
   "metadata": {
    "colab": {
     "base_uri": "https://localhost:8080/"
    },
    "id": "hzZTuBMDsr_p",
    "executionInfo": {
     "status": "ok",
     "timestamp": 1743416315406,
     "user_tz": -120,
     "elapsed": 165,
     "user": {
      "displayName": "Ibon Soto Alsua",
      "userId": "05619249575118640628"
     }
    },
    "outputId": "8bf8794e-98fc-4efa-c85e-c50477be58f3"
   },
   "execution_count": 20,
   "outputs": [
    {
     "output_type": "stream",
     "name": "stderr",
     "text": [
      "<ipython-input-18-266de2c1e6aa>:10: FutureWarning: Setting an item of incompatible dtype is deprecated and will raise in a future error of pandas. Value '0       208.199772\n",
      "1       208.199772\n",
      "2       208.199772\n",
      "3       208.199772\n",
      "4       208.199772\n",
      "           ...    \n",
      "8755    208.199772\n",
      "8756    208.199772\n",
      "8757    208.199772\n",
      "8758    208.199772\n",
      "8759    208.199772\n",
      "Name: GH illum (lx), Length: 8760, dtype: float64' has dtype incompatible with int64, please explicitly cast to a compatible dtype first.\n",
      "  df.iloc[:, 0] += incremento\n",
      "<ipython-input-18-266de2c1e6aa>:22: FutureWarning: Setting an item of incompatible dtype is deprecated and will raise in a future error of pandas. Value '0      -104.099886\n",
      "1      -104.099886\n",
      "2      -104.099886\n",
      "3      -104.099886\n",
      "4      -104.099886\n",
      "           ...    \n",
      "8755   -104.099886\n",
      "8756   -104.099886\n",
      "8757   -104.099886\n",
      "8758   -104.099886\n",
      "8759   -104.099886\n",
      "Name: GH illum (lx), Length: 8760, dtype: float64' has dtype incompatible with int64, please explicitly cast to a compatible dtype first.\n",
      "  df.iloc[:, 0] -= decremento\n"
     ]
    }
   ]
  },
  {
   "cell_type": "code",
   "source": [
    "imprimir_media_csv(\"/content/drive/MyDrive/mia-2s1/reto3/testing/SanFrancisco_724940TYA.csv\")\n",
    "imprimir_media_csv(\"/content/drive/MyDrive/mia-2s1/reto3/testing/AugmentedPV_data.csv\")\n",
    "imprimir_media_csv(\"/content/drive/MyDrive/mia-2s1/reto3/testing/ReducedPV_data.csv\")\n",
    "imprimir_media_csv(\"/content/drive/MyDrive/mia-2s1/reto3/testing/RefBldgFullServiceRestaurantNew2004_v1.3_7.1_6A_USA_MN_MINNEAPOLIS.csv\")\n",
    "imprimir_media_csv(\"/content/drive/MyDrive/mia-2s1/reto3/testing/AugmentedLoad_data.csv\")\n",
    "imprimir_media_csv(\"/content/drive/MyDrive/mia-2s1/reto3/testing/ReducedLoad_data.csv\")"
   ],
   "metadata": {
    "colab": {
     "base_uri": "https://localhost:8080/"
    },
    "id": "RZ4sP0Xrsuyq",
    "executionInfo": {
     "status": "ok",
     "timestamp": 1743416341411,
     "user_tz": -120,
     "elapsed": 57,
     "user": {
      "displayName": "Ibon Soto Alsua",
      "userId": "05619249575118640628"
     }
    },
    "outputId": "7350d69c-c48c-4377-9760-5d98836a1a07"
   },
   "execution_count": 21,
   "outputs": [
    {
     "output_type": "stream",
     "name": "stdout",
     "text": [
      "Media de /content/drive/MyDrive/mia-2s1/reto3/testing/SanFrancisco_724940TYA.csv: 208.1997716894977\n",
      "Media de /content/drive/MyDrive/mia-2s1/reto3/testing/AugmentedPV_data.csv: 416.39954337899536\n",
      "Media de /content/drive/MyDrive/mia-2s1/reto3/testing/ReducedPV_data.csv: 104.09988584474888\n",
      "Media de /content/drive/MyDrive/mia-2s1/reto3/testing/RefBldgFullServiceRestaurantNew2004_v1.3_7.1_6A_USA_MN_MINNEAPOLIS.csv: 35.48129092019977\n",
      "Media de /content/drive/MyDrive/mia-2s1/reto3/testing/AugmentedLoad_data.csv: 70.96258184039954\n",
      "Media de /content/drive/MyDrive/mia-2s1/reto3/testing/ReducedLoad_data.csv: 17.740645460099888\n"
     ]
    }
   ]
  },
  {
   "cell_type": "code",
   "source": [
    "!pip install zipfile36"
   ],
   "metadata": {
    "colab": {
     "base_uri": "https://localhost:8080/"
    },
    "id": "-OV1Twuo35pK",
    "executionInfo": {
     "status": "ok",
     "timestamp": 1743416362217,
     "user_tz": -120,
     "elapsed": 3851,
     "user": {
      "displayName": "Ibon Soto Alsua",
      "userId": "05619249575118640628"
     }
    },
    "outputId": "886806a6-d0f8-4d7c-c6fc-68ade36cd98c"
   },
   "execution_count": 22,
   "outputs": [
    {
     "output_type": "stream",
     "name": "stdout",
     "text": [
      "Requirement already satisfied: zipfile36 in /usr/local/lib/python3.11/dist-packages (0.1.3)\n"
     ]
    }
   ]
  },
  {
   "cell_type": "markdown",
   "source": [
    "## COMPRENSIÓN DE NUEVOS DATOS EN UN ZIP"
   ],
   "metadata": {
    "id": "qTeSwMx2DAyb"
   }
  },
  {
   "cell_type": "code",
   "source": [
    "import zipfile\n",
    "def comprimir_archivos(archivos, zip_nombre):\n",
    "    with zipfile.ZipFile(zip_nombre, 'w') as zipf:\n",
    "        for archivo in archivos:\n",
    "            zipf.write(archivo)"
   ],
   "metadata": {
    "id": "52O-O2ZA31Pz",
    "executionInfo": {
     "status": "aborted",
     "timestamp": 1743416156933,
     "user_tz": -120,
     "elapsed": 251,
     "user": {
      "displayName": "Ibon Soto Alsua",
      "userId": "05619249575118640628"
     }
    }
   },
   "execution_count": null,
   "outputs": []
  },
  {
   "cell_type": "code",
   "source": [
    "comprimir_archivos([\n",
    "    \"/content/drive/MyDrive/mia-2s1/reto3/testing/AugmentedPV_data.csv\",\n",
    "    \"/content/drive/MyDrive/mia-2s1/reto3/testing/ReducedLoad_data.csv\"\n",
    "], \"data_pv_high_load_low.zip\")\n",
    "\n",
    "comprimir_archivos([\n",
    "    \"/content/drive/MyDrive/mia-2s1/reto3/testing/ReducedPV_data.csv\",\n",
    "    \"/content/drive/MyDrive/mia-2s1/reto3/testing/AugmentedLoad_data.csv\"\n",
    "], \"data_pv_low_load_high.zip\")\n"
   ],
   "metadata": {
    "id": "3iVwWN38syH6",
    "executionInfo": {
     "status": "aborted",
     "timestamp": 1743416156934,
     "user_tz": -120,
     "elapsed": 251,
     "user": {
      "displayName": "Ibon Soto Alsua",
      "userId": "05619249575118640628"
     }
    }
   },
   "execution_count": null,
   "outputs": []
  }
 ]
}
